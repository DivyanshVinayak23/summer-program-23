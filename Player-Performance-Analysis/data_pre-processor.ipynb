{
 "cells": [
  {
   "cell_type": "code",
   "execution_count": 2,
   "id": "5fbe339f",
   "metadata": {
    "scrolled": false
   },
   "outputs": [
    {
     "name": "stdout",
     "output_type": "stream",
     "text": [
      "Preprocessing completed for file: hardik pandya.csv\n",
      "Preprocessing completed for file: kl rahul.csv\n",
      "Preprocessing completed for file: ms dhoni.csv\n",
      "Preprocessing completed for file: ravindra jadeja.csv\n",
      "Preprocessing completed for file: rishabh pant.csv\n",
      "Preprocessing completed for file: rohit sharma.csv\n",
      "Preprocessing completed for file: shikhar dhawan.csv\n",
      "Preprocessing completed for file: shreyas iyer.csv\n",
      "Preprocessing completed for file: shubman gill.csv\n",
      "Preprocessing completed for file: suryakumar yadav.csv\n",
      "Preprocessing completed for file: virat kohli.csv\n",
      "Preprocessing finished for all files.\n"
     ]
    }
   ],
   "source": [
    "import os\n",
    "import pandas as pd\n",
    "\n",
    "folder_path = r\"C:\\Users\\Aditya\\PlayerPerformanceAnalysis\\T20I batsmen\"\n",
    "\n",
    "file_list = os.listdir(folder_path)\n",
    "\n",
    "for file_name in file_list:\n",
    "    if file_name.endswith('.csv'):\n",
    "        file_path = os.path.join(folder_path, file_name)\n",
    "        data = pd.read_csv(file_path)\n",
    "\n",
    "        data = data.replace('-', 0, regex=True)\n",
    "        data['HS'] = data['HS'].astype(str).str.extract(r'(\\d+)').astype(int)\n",
    "\n",
    "        preprocessed_file_name = file_name\n",
    "        preprocessed_file_path = os.path.join(folder_path, preprocessed_file_name)\n",
    "        data.to_csv(preprocessed_file_path, index=False)\n",
    "\n",
    "        print(f\"Preprocessing completed for file: {file_name}\")\n",
    "\n",
    "print(\"Preprocessing finished for all files.\")\n"
   ]
  },
  {
   "cell_type": "code",
   "execution_count": null,
   "id": "f0cc856f",
   "metadata": {},
   "outputs": [],
   "source": []
  }
 ],
 "metadata": {
  "kernelspec": {
   "display_name": "Python 3 (ipykernel)",
   "language": "python",
   "name": "python3"
  },
  "language_info": {
   "codemirror_mode": {
    "name": "ipython",
    "version": 3
   },
   "file_extension": ".py",
   "mimetype": "text/x-python",
   "name": "python",
   "nbconvert_exporter": "python",
   "pygments_lexer": "ipython3",
   "version": "3.9.7"
  }
 },
 "nbformat": 4,
 "nbformat_minor": 5
}
