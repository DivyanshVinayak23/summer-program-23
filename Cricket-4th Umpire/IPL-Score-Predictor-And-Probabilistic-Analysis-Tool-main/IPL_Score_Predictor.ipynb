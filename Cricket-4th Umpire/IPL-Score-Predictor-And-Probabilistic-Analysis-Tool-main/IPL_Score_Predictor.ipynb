{
 "cells": [
  {
   "cell_type": "markdown",
   "metadata": {
    "id": "AXBU8kPxT1Al"
   },
   "source": [
    "# IPL Score Prediction using Machine Learning\n",
    "\n",
    "This Machine Learning model adapts a Regression Approach to predict the score of the First Inning of an IPL Match."
   ]
  },
  {
   "cell_type": "markdown",
   "metadata": {
    "id": "deQNulMrT_fi"
   },
   "source": []
  },
  {
   "cell_type": "code",
   "execution_count": 1,
   "metadata": {
    "id": "p0AuT36T3Eds"
   },
   "outputs": [],
   "source": [
    "# Importing Necessary Libraries\n",
    "import pandas as pd\n",
    "import numpy as np\n",
    "import seaborn as sns\n",
    "import matplotlib.pyplot as plt"
   ]
  },
  {
   "cell_type": "markdown",
   "metadata": {
    "id": "g8WZBYt3wT3t"
   },
   "source": [
    "Load the dataset"
   ]
  },
  {
   "cell_type": "code",
   "execution_count": 2,
   "metadata": {
    "colab": {
     "base_uri": "https://localhost:8080/"
    },
    "id": "CHAMX3Kh3LfY",
    "outputId": "9b3b004b-c55c-4dc4-aac4-4e84e527b30e"
   },
   "outputs": [
    {
     "name": "stdout",
     "output_type": "stream",
     "text": [
      "Dataset successfully Imported of Shape : (83118, 15)\n"
     ]
    }
   ],
   "source": [
    "#Importing dataset\n",
    "ipl_df = pd.read_csv('ipl_data.csv')\n",
    "print(f\"Dataset successfully Imported of Shape : {ipl_df.shape}\")"
   ]
  },
  {
   "cell_type": "markdown",
   "metadata": {
    "id": "J7CSd3bM4U8S"
   },
   "source": [
    "# Exploratory Data Analysis"
   ]
  },
  {
   "cell_type": "code",
   "execution_count": 3,
   "metadata": {
    "colab": {
     "base_uri": "https://localhost:8080/",
     "height": 354
    },
    "id": "XobBp7D74Pb0",
    "outputId": "212f6775-a000-4737-a978-62e750ec6702"
   },
   "outputs": [
    {
     "data": {
      "text/html": [
       "<div>\n",
       "<style scoped>\n",
       "    .dataframe tbody tr th:only-of-type {\n",
       "        vertical-align: middle;\n",
       "    }\n",
       "\n",
       "    .dataframe tbody tr th {\n",
       "        vertical-align: top;\n",
       "    }\n",
       "\n",
       "    .dataframe thead th {\n",
       "        text-align: right;\n",
       "    }\n",
       "</style>\n",
       "<table border=\"1\" class=\"dataframe\">\n",
       "  <thead>\n",
       "    <tr style=\"text-align: right;\">\n",
       "      <th></th>\n",
       "      <th>mid</th>\n",
       "      <th>date</th>\n",
       "      <th>venue</th>\n",
       "      <th>bat_team</th>\n",
       "      <th>bowl_team</th>\n",
       "      <th>batsman</th>\n",
       "      <th>bowler</th>\n",
       "      <th>runs</th>\n",
       "      <th>wickets</th>\n",
       "      <th>overs</th>\n",
       "      <th>runs_last_5</th>\n",
       "      <th>wickets_last_5</th>\n",
       "      <th>striker</th>\n",
       "      <th>non-striker</th>\n",
       "      <th>total</th>\n",
       "    </tr>\n",
       "  </thead>\n",
       "  <tbody>\n",
       "    <tr>\n",
       "      <th>0</th>\n",
       "      <td>1.0</td>\n",
       "      <td>18-04-2008</td>\n",
       "      <td>M Chinnaswamy Stadium</td>\n",
       "      <td>Kolkata Knight Riders</td>\n",
       "      <td>Royal Challengers Bangalore</td>\n",
       "      <td>SC Ganguly</td>\n",
       "      <td>P Kumar</td>\n",
       "      <td>1</td>\n",
       "      <td>0</td>\n",
       "      <td>0.1</td>\n",
       "      <td>0</td>\n",
       "      <td>0</td>\n",
       "      <td>0</td>\n",
       "      <td>0</td>\n",
       "      <td>222</td>\n",
       "    </tr>\n",
       "    <tr>\n",
       "      <th>1</th>\n",
       "      <td>1.0</td>\n",
       "      <td>18-04-2008</td>\n",
       "      <td>M Chinnaswamy Stadium</td>\n",
       "      <td>Kolkata Knight Riders</td>\n",
       "      <td>Royal Challengers Bangalore</td>\n",
       "      <td>BB McCullum</td>\n",
       "      <td>P Kumar</td>\n",
       "      <td>1</td>\n",
       "      <td>0</td>\n",
       "      <td>0.2</td>\n",
       "      <td>0</td>\n",
       "      <td>0</td>\n",
       "      <td>0</td>\n",
       "      <td>0</td>\n",
       "      <td>222</td>\n",
       "    </tr>\n",
       "    <tr>\n",
       "      <th>2</th>\n",
       "      <td>1.0</td>\n",
       "      <td>18-04-2008</td>\n",
       "      <td>M Chinnaswamy Stadium</td>\n",
       "      <td>Kolkata Knight Riders</td>\n",
       "      <td>Royal Challengers Bangalore</td>\n",
       "      <td>BB McCullum</td>\n",
       "      <td>P Kumar</td>\n",
       "      <td>2</td>\n",
       "      <td>0</td>\n",
       "      <td>0.2</td>\n",
       "      <td>0</td>\n",
       "      <td>0</td>\n",
       "      <td>0</td>\n",
       "      <td>0</td>\n",
       "      <td>222</td>\n",
       "    </tr>\n",
       "    <tr>\n",
       "      <th>3</th>\n",
       "      <td>1.0</td>\n",
       "      <td>18-04-2008</td>\n",
       "      <td>M Chinnaswamy Stadium</td>\n",
       "      <td>Kolkata Knight Riders</td>\n",
       "      <td>Royal Challengers Bangalore</td>\n",
       "      <td>BB McCullum</td>\n",
       "      <td>P Kumar</td>\n",
       "      <td>2</td>\n",
       "      <td>0</td>\n",
       "      <td>0.3</td>\n",
       "      <td>0</td>\n",
       "      <td>0</td>\n",
       "      <td>0</td>\n",
       "      <td>0</td>\n",
       "      <td>222</td>\n",
       "    </tr>\n",
       "    <tr>\n",
       "      <th>4</th>\n",
       "      <td>1.0</td>\n",
       "      <td>18-04-2008</td>\n",
       "      <td>M Chinnaswamy Stadium</td>\n",
       "      <td>Kolkata Knight Riders</td>\n",
       "      <td>Royal Challengers Bangalore</td>\n",
       "      <td>BB McCullum</td>\n",
       "      <td>P Kumar</td>\n",
       "      <td>2</td>\n",
       "      <td>0</td>\n",
       "      <td>0.4</td>\n",
       "      <td>0</td>\n",
       "      <td>0</td>\n",
       "      <td>0</td>\n",
       "      <td>0</td>\n",
       "      <td>222</td>\n",
       "    </tr>\n",
       "    <tr>\n",
       "      <th>...</th>\n",
       "      <td>...</td>\n",
       "      <td>...</td>\n",
       "      <td>...</td>\n",
       "      <td>...</td>\n",
       "      <td>...</td>\n",
       "      <td>...</td>\n",
       "      <td>...</td>\n",
       "      <td>...</td>\n",
       "      <td>...</td>\n",
       "      <td>...</td>\n",
       "      <td>...</td>\n",
       "      <td>...</td>\n",
       "      <td>...</td>\n",
       "      <td>...</td>\n",
       "      <td>...</td>\n",
       "    </tr>\n",
       "    <tr>\n",
       "      <th>83113</th>\n",
       "      <td>NaN</td>\n",
       "      <td>29-05-2022</td>\n",
       "      <td>Narendra Modi Stadium, Ahmedabad</td>\n",
       "      <td>Gujarat Titans</td>\n",
       "      <td>Rajasthan Royals</td>\n",
       "      <td>DA Miller</td>\n",
       "      <td>R Ashwin</td>\n",
       "      <td>124</td>\n",
       "      <td>3</td>\n",
       "      <td>17.3</td>\n",
       "      <td>0</td>\n",
       "      <td>0</td>\n",
       "      <td>40</td>\n",
       "      <td>27</td>\n",
       "      <td>133</td>\n",
       "    </tr>\n",
       "    <tr>\n",
       "      <th>83114</th>\n",
       "      <td>NaN</td>\n",
       "      <td>29-05-2022</td>\n",
       "      <td>Narendra Modi Stadium, Ahmedabad</td>\n",
       "      <td>Gujarat Titans</td>\n",
       "      <td>Rajasthan Royals</td>\n",
       "      <td>Shubman Gill</td>\n",
       "      <td>R Ashwin</td>\n",
       "      <td>124</td>\n",
       "      <td>3</td>\n",
       "      <td>17.4</td>\n",
       "      <td>0</td>\n",
       "      <td>0</td>\n",
       "      <td>40</td>\n",
       "      <td>27</td>\n",
       "      <td>133</td>\n",
       "    </tr>\n",
       "    <tr>\n",
       "      <th>83115</th>\n",
       "      <td>NaN</td>\n",
       "      <td>29-05-2022</td>\n",
       "      <td>Narendra Modi Stadium, Ahmedabad</td>\n",
       "      <td>Gujarat Titans</td>\n",
       "      <td>Rajasthan Royals</td>\n",
       "      <td>Shubman Gill</td>\n",
       "      <td>R Ashwin</td>\n",
       "      <td>125</td>\n",
       "      <td>3</td>\n",
       "      <td>17.5</td>\n",
       "      <td>0</td>\n",
       "      <td>0</td>\n",
       "      <td>46</td>\n",
       "      <td>0</td>\n",
       "      <td>133</td>\n",
       "    </tr>\n",
       "    <tr>\n",
       "      <th>83116</th>\n",
       "      <td>NaN</td>\n",
       "      <td>29-05-2022</td>\n",
       "      <td>Narendra Modi Stadium, Ahmedabad</td>\n",
       "      <td>Gujarat Titans</td>\n",
       "      <td>Rajasthan Royals</td>\n",
       "      <td>DA Miller</td>\n",
       "      <td>R Ashwin</td>\n",
       "      <td>127</td>\n",
       "      <td>3</td>\n",
       "      <td>17.6</td>\n",
       "      <td>0</td>\n",
       "      <td>0</td>\n",
       "      <td>47</td>\n",
       "      <td>1</td>\n",
       "      <td>133</td>\n",
       "    </tr>\n",
       "    <tr>\n",
       "      <th>83117</th>\n",
       "      <td>NaN</td>\n",
       "      <td>29-05-2022</td>\n",
       "      <td>Narendra Modi Stadium, Ahmedabad</td>\n",
       "      <td>Gujarat Titans</td>\n",
       "      <td>Rajasthan Royals</td>\n",
       "      <td>Shubman Gill</td>\n",
       "      <td>OC McCoy</td>\n",
       "      <td>133</td>\n",
       "      <td>3</td>\n",
       "      <td>18.1</td>\n",
       "      <td>0</td>\n",
       "      <td>0</td>\n",
       "      <td>47</td>\n",
       "      <td>1</td>\n",
       "      <td>133</td>\n",
       "    </tr>\n",
       "  </tbody>\n",
       "</table>\n",
       "<p>83118 rows × 15 columns</p>\n",
       "</div>"
      ],
      "text/plain": [
       "       mid        date                             venue   \n",
       "0      1.0  18-04-2008             M Chinnaswamy Stadium  \\\n",
       "1      1.0  18-04-2008             M Chinnaswamy Stadium   \n",
       "2      1.0  18-04-2008             M Chinnaswamy Stadium   \n",
       "3      1.0  18-04-2008             M Chinnaswamy Stadium   \n",
       "4      1.0  18-04-2008             M Chinnaswamy Stadium   \n",
       "...    ...         ...                               ...   \n",
       "83113  NaN  29-05-2022  Narendra Modi Stadium, Ahmedabad   \n",
       "83114  NaN  29-05-2022  Narendra Modi Stadium, Ahmedabad   \n",
       "83115  NaN  29-05-2022  Narendra Modi Stadium, Ahmedabad   \n",
       "83116  NaN  29-05-2022  Narendra Modi Stadium, Ahmedabad   \n",
       "83117  NaN  29-05-2022  Narendra Modi Stadium, Ahmedabad   \n",
       "\n",
       "                    bat_team                    bowl_team       batsman   \n",
       "0      Kolkata Knight Riders  Royal Challengers Bangalore    SC Ganguly  \\\n",
       "1      Kolkata Knight Riders  Royal Challengers Bangalore   BB McCullum   \n",
       "2      Kolkata Knight Riders  Royal Challengers Bangalore   BB McCullum   \n",
       "3      Kolkata Knight Riders  Royal Challengers Bangalore   BB McCullum   \n",
       "4      Kolkata Knight Riders  Royal Challengers Bangalore   BB McCullum   \n",
       "...                      ...                          ...           ...   \n",
       "83113         Gujarat Titans             Rajasthan Royals     DA Miller   \n",
       "83114         Gujarat Titans             Rajasthan Royals  Shubman Gill   \n",
       "83115         Gujarat Titans             Rajasthan Royals  Shubman Gill   \n",
       "83116         Gujarat Titans             Rajasthan Royals     DA Miller   \n",
       "83117         Gujarat Titans             Rajasthan Royals  Shubman Gill   \n",
       "\n",
       "         bowler  runs  wickets  overs  runs_last_5  wickets_last_5  striker   \n",
       "0       P Kumar     1        0    0.1            0               0        0  \\\n",
       "1       P Kumar     1        0    0.2            0               0        0   \n",
       "2       P Kumar     2        0    0.2            0               0        0   \n",
       "3       P Kumar     2        0    0.3            0               0        0   \n",
       "4       P Kumar     2        0    0.4            0               0        0   \n",
       "...         ...   ...      ...    ...          ...             ...      ...   \n",
       "83113  R Ashwin   124        3   17.3            0               0       40   \n",
       "83114  R Ashwin   124        3   17.4            0               0       40   \n",
       "83115  R Ashwin   125        3   17.5            0               0       46   \n",
       "83116  R Ashwin   127        3   17.6            0               0       47   \n",
       "83117  OC McCoy   133        3   18.1            0               0       47   \n",
       "\n",
       "       non-striker  total  \n",
       "0                0    222  \n",
       "1                0    222  \n",
       "2                0    222  \n",
       "3                0    222  \n",
       "4                0    222  \n",
       "...            ...    ...  \n",
       "83113           27    133  \n",
       "83114           27    133  \n",
       "83115            0    133  \n",
       "83116            1    133  \n",
       "83117            1    133  \n",
       "\n",
       "[83118 rows x 15 columns]"
      ]
     },
     "execution_count": 3,
     "metadata": {},
     "output_type": "execute_result"
    }
   ],
   "source": [
    "# First 5 Columns Data\n",
    "ipl_df.head()\n",
    "ipl_df['wickets_last_5']=0\n",
    "ipl_df['runs_last_5']=0\n",
    "ipl_df"
   ]
  },
  {
   "cell_type": "code",
   "execution_count": 4,
   "metadata": {
    "colab": {
     "base_uri": "https://localhost:8080/",
     "height": 300
    },
    "id": "dl5XPiHq4aG0",
    "outputId": "68fc3a72-cd03-4ee0-857e-93b75150b1e3"
   },
   "outputs": [
    {
     "data": {
      "text/html": [
       "<div>\n",
       "<style scoped>\n",
       "    .dataframe tbody tr th:only-of-type {\n",
       "        vertical-align: middle;\n",
       "    }\n",
       "\n",
       "    .dataframe tbody tr th {\n",
       "        vertical-align: top;\n",
       "    }\n",
       "\n",
       "    .dataframe thead th {\n",
       "        text-align: right;\n",
       "    }\n",
       "</style>\n",
       "<table border=\"1\" class=\"dataframe\">\n",
       "  <thead>\n",
       "    <tr style=\"text-align: right;\">\n",
       "      <th></th>\n",
       "      <th>mid</th>\n",
       "      <th>runs</th>\n",
       "      <th>wickets</th>\n",
       "      <th>overs</th>\n",
       "      <th>runs_last_5</th>\n",
       "      <th>wickets_last_5</th>\n",
       "      <th>striker</th>\n",
       "      <th>non-striker</th>\n",
       "      <th>total</th>\n",
       "    </tr>\n",
       "  </thead>\n",
       "  <tbody>\n",
       "    <tr>\n",
       "      <th>count</th>\n",
       "      <td>76014.000000</td>\n",
       "      <td>83118.000000</td>\n",
       "      <td>83118.000000</td>\n",
       "      <td>83118.000000</td>\n",
       "      <td>83118.0</td>\n",
       "      <td>83118.0</td>\n",
       "      <td>83118.000000</td>\n",
       "      <td>83118.000000</td>\n",
       "      <td>83118.000000</td>\n",
       "    </tr>\n",
       "    <tr>\n",
       "      <th>mean</th>\n",
       "      <td>308.627740</td>\n",
       "      <td>75.020032</td>\n",
       "      <td>2.399769</td>\n",
       "      <td>9.780830</td>\n",
       "      <td>0.0</td>\n",
       "      <td>0.0</td>\n",
       "      <td>24.163924</td>\n",
       "      <td>8.860788</td>\n",
       "      <td>161.597211</td>\n",
       "    </tr>\n",
       "    <tr>\n",
       "      <th>std</th>\n",
       "      <td>178.156878</td>\n",
       "      <td>49.044761</td>\n",
       "      <td>2.009214</td>\n",
       "      <td>5.769752</td>\n",
       "      <td>0.0</td>\n",
       "      <td>0.0</td>\n",
       "      <td>19.676529</td>\n",
       "      <td>10.745255</td>\n",
       "      <td>28.999378</td>\n",
       "    </tr>\n",
       "    <tr>\n",
       "      <th>min</th>\n",
       "      <td>1.000000</td>\n",
       "      <td>0.000000</td>\n",
       "      <td>0.000000</td>\n",
       "      <td>0.000000</td>\n",
       "      <td>0.0</td>\n",
       "      <td>0.0</td>\n",
       "      <td>0.000000</td>\n",
       "      <td>0.000000</td>\n",
       "      <td>67.000000</td>\n",
       "    </tr>\n",
       "    <tr>\n",
       "      <th>25%</th>\n",
       "      <td>154.000000</td>\n",
       "      <td>34.000000</td>\n",
       "      <td>1.000000</td>\n",
       "      <td>4.600000</td>\n",
       "      <td>0.0</td>\n",
       "      <td>0.0</td>\n",
       "      <td>9.000000</td>\n",
       "      <td>1.000000</td>\n",
       "      <td>142.000000</td>\n",
       "    </tr>\n",
       "    <tr>\n",
       "      <th>50%</th>\n",
       "      <td>308.000000</td>\n",
       "      <td>71.000000</td>\n",
       "      <td>2.000000</td>\n",
       "      <td>9.600000</td>\n",
       "      <td>0.0</td>\n",
       "      <td>0.0</td>\n",
       "      <td>20.000000</td>\n",
       "      <td>5.000000</td>\n",
       "      <td>163.000000</td>\n",
       "    </tr>\n",
       "    <tr>\n",
       "      <th>75%</th>\n",
       "      <td>463.000000</td>\n",
       "      <td>111.000000</td>\n",
       "      <td>4.000000</td>\n",
       "      <td>14.600000</td>\n",
       "      <td>0.0</td>\n",
       "      <td>0.0</td>\n",
       "      <td>34.000000</td>\n",
       "      <td>13.000000</td>\n",
       "      <td>182.000000</td>\n",
       "    </tr>\n",
       "    <tr>\n",
       "      <th>max</th>\n",
       "      <td>617.000000</td>\n",
       "      <td>263.000000</td>\n",
       "      <td>10.000000</td>\n",
       "      <td>19.800000</td>\n",
       "      <td>0.0</td>\n",
       "      <td>0.0</td>\n",
       "      <td>175.000000</td>\n",
       "      <td>109.000000</td>\n",
       "      <td>263.000000</td>\n",
       "    </tr>\n",
       "  </tbody>\n",
       "</table>\n",
       "</div>"
      ],
      "text/plain": [
       "                mid          runs       wickets         overs  runs_last_5   \n",
       "count  76014.000000  83118.000000  83118.000000  83118.000000      83118.0  \\\n",
       "mean     308.627740     75.020032      2.399769      9.780830          0.0   \n",
       "std      178.156878     49.044761      2.009214      5.769752          0.0   \n",
       "min        1.000000      0.000000      0.000000      0.000000          0.0   \n",
       "25%      154.000000     34.000000      1.000000      4.600000          0.0   \n",
       "50%      308.000000     71.000000      2.000000      9.600000          0.0   \n",
       "75%      463.000000    111.000000      4.000000     14.600000          0.0   \n",
       "max      617.000000    263.000000     10.000000     19.800000          0.0   \n",
       "\n",
       "       wickets_last_5       striker   non-striker         total  \n",
       "count         83118.0  83118.000000  83118.000000  83118.000000  \n",
       "mean              0.0     24.163924      8.860788    161.597211  \n",
       "std               0.0     19.676529     10.745255     28.999378  \n",
       "min               0.0      0.000000      0.000000     67.000000  \n",
       "25%               0.0      9.000000      1.000000    142.000000  \n",
       "50%               0.0     20.000000      5.000000    163.000000  \n",
       "75%               0.0     34.000000     13.000000    182.000000  \n",
       "max               0.0    175.000000    109.000000    263.000000  "
      ]
     },
     "execution_count": 4,
     "metadata": {},
     "output_type": "execute_result"
    }
   ],
   "source": [
    "# Describing the ipl_dfset\n",
    "ipl_df.describe()"
   ]
  },
  {
   "cell_type": "code",
   "execution_count": 5,
   "metadata": {
    "colab": {
     "base_uri": "https://localhost:8080/"
    },
    "id": "mPpXimQR4gCc",
    "outputId": "18e36db7-deb1-4c98-d937-57b0b198fd91"
   },
   "outputs": [
    {
     "name": "stdout",
     "output_type": "stream",
     "text": [
      "<class 'pandas.core.frame.DataFrame'>\n",
      "RangeIndex: 83118 entries, 0 to 83117\n",
      "Data columns (total 15 columns):\n",
      " #   Column          Non-Null Count  Dtype  \n",
      "---  ------          --------------  -----  \n",
      " 0   mid             76014 non-null  float64\n",
      " 1   date            83118 non-null  object \n",
      " 2   venue           83118 non-null  object \n",
      " 3   bat_team        83118 non-null  object \n",
      " 4   bowl_team       83118 non-null  object \n",
      " 5   batsman         83118 non-null  object \n",
      " 6   bowler          83118 non-null  object \n",
      " 7   runs            83118 non-null  int64  \n",
      " 8   wickets         83118 non-null  int64  \n",
      " 9   overs           83118 non-null  float64\n",
      " 10  runs_last_5     83118 non-null  int64  \n",
      " 11  wickets_last_5  83118 non-null  int64  \n",
      " 12  striker         83118 non-null  int64  \n",
      " 13  non-striker     83118 non-null  int64  \n",
      " 14  total           83118 non-null  int64  \n",
      "dtypes: float64(2), int64(7), object(6)\n",
      "memory usage: 9.5+ MB\n"
     ]
    }
   ],
   "source": [
    "# Information about Each Column\n",
    "ipl_df.info()"
   ]
  },
  {
   "cell_type": "code",
   "execution_count": 6,
   "metadata": {
    "colab": {
     "base_uri": "https://localhost:8080/"
    },
    "id": "YWmwXKCK4huV",
    "outputId": "5832d68f-54ec-45dc-f6a0-11e6cc41b99a"
   },
   "outputs": [
    {
     "data": {
      "text/plain": [
       "mid               617\n",
       "date              470\n",
       "venue              41\n",
       "bat_team           16\n",
       "bowl_team          16\n",
       "batsman           480\n",
       "bowler            382\n",
       "runs              252\n",
       "wickets            11\n",
       "overs             183\n",
       "runs_last_5         1\n",
       "wickets_last_5      1\n",
       "striker           155\n",
       "non-striker        88\n",
       "total             139\n",
       "dtype: int64"
      ]
     },
     "execution_count": 6,
     "metadata": {},
     "output_type": "execute_result"
    }
   ],
   "source": [
    "# Number of Unique Values in each column\n",
    "ipl_df.nunique()"
   ]
  },
  {
   "cell_type": "code",
   "execution_count": 7,
   "metadata": {
    "colab": {
     "base_uri": "https://localhost:8080/"
    },
    "id": "9WvhLdlTaEdt",
    "outputId": "988866ed-1df4-491e-b97f-1830599a8faa"
   },
   "outputs": [
    {
     "data": {
      "text/plain": [
       "mid               float64\n",
       "date               object\n",
       "venue              object\n",
       "bat_team           object\n",
       "bowl_team          object\n",
       "batsman            object\n",
       "bowler             object\n",
       "runs                int64\n",
       "wickets             int64\n",
       "overs             float64\n",
       "runs_last_5         int64\n",
       "wickets_last_5      int64\n",
       "striker             int64\n",
       "non-striker         int64\n",
       "total               int64\n",
       "dtype: object"
      ]
     },
     "execution_count": 7,
     "metadata": {},
     "output_type": "execute_result"
    }
   ],
   "source": [
    "# ipl_df types of all Columns\n",
    "ipl_df.dtypes"
   ]
  },
  {
   "cell_type": "code",
   "execution_count": 8,
   "metadata": {},
   "outputs": [
    {
     "data": {
      "image/png": "[encoded data removed]",
      "text/plain": [
       "<Figure size 500x500 with 1 Axes>"
      ]
     },
     "metadata": {},
     "output_type": "display_data"
    }
   ],
   "source": [
    "#Wickets Distribution\n",
    "sns.displot(ipl_df['wickets'],kde=False,bins=10)\n",
    "plt.title(\"Wickets Distribution\")\n",
    "\n",
    "plt.show()"
   ]
  },
  {
   "cell_type": "code",
   "execution_count": 9,
   "metadata": {},
   "outputs": [
    {
     "data": {
      "image/png": "[encoded data removed]",
      "text/plain": [
       "<Figure size 500x500 with 1 Axes>"
      ]
     },
     "metadata": {},
     "output_type": "display_data"
    }
   ],
   "source": [
    "#Runs Distribution\n",
    "sns.displot(ipl_df['total'],kde=False,bins=10)\n",
    "plt.title(\"Runs Distribution\")\n",
    "\n",
    "plt.show()"
   ]
  },
  {
   "cell_type": "markdown",
   "metadata": {
    "id": "dxFkLRRI8RTi"
   },
   "source": [
    "# Data Cleaning"
   ]
  },
  {
   "cell_type": "markdown",
   "metadata": {
    "id": "s0bwc9vT-7Th"
   },
   "source": [
    "#### Removing Irrelevant Data colunms"
   ]
  },
  {
   "cell_type": "code",
   "execution_count": 10,
   "metadata": {
    "colab": {
     "base_uri": "https://localhost:8080/"
    },
    "id": "Hb-QjD1a6tRs",
    "outputId": "d49eea35-129f-47ff-faae-ec4b981b1ca8"
   },
   "outputs": [
    {
     "data": {
      "text/plain": [
       "Index(['mid', 'date', 'venue', 'bat_team', 'bowl_team', 'batsman', 'bowler',\n",
       "       'runs', 'wickets', 'overs', 'runs_last_5', 'wickets_last_5', 'striker',\n",
       "       'non-striker', 'total'],\n",
       "      dtype='object')"
      ]
     },
     "execution_count": 10,
     "metadata": {},
     "output_type": "execute_result"
    }
   ],
   "source": [
    "# Names of all columns\n",
    "ipl_df.columns"
   ]
  },
  {
   "cell_type": "markdown",
   "metadata": {
    "id": "kcBf3QuOgzZY"
   },
   "source": [
    "Here, we can see that columns _['mid', 'date', 'venue', 'batsman', 'bowler', 'striker', 'non-striker']_ won't provide any relevant information for our model to train"
   ]
  },
  {
   "cell_type": "code",
   "execution_count": 11,
   "metadata": {
    "colab": {
     "base_uri": "https://localhost:8080/",
     "height": 242
    },
    "id": "0o4-CkhP8W2f",
    "outputId": "94560ba8-a95a-4fad-de89-a91e6d7be60f"
   },
   "outputs": [
    {
     "name": "stdout",
     "output_type": "stream",
     "text": [
      "Before Removing Irrelevant Columns : (83118, 15)\n",
      "After Removing Irrelevant Columns : (83118, 8)\n"
     ]
    },
    {
     "data": {
      "text/html": [
       "<div>\n",
       "<style scoped>\n",
       "    .dataframe tbody tr th:only-of-type {\n",
       "        vertical-align: middle;\n",
       "    }\n",
       "\n",
       "    .dataframe tbody tr th {\n",
       "        vertical-align: top;\n",
       "    }\n",
       "\n",
       "    .dataframe thead th {\n",
       "        text-align: right;\n",
       "    }\n",
       "</style>\n",
       "<table border=\"1\" class=\"dataframe\">\n",
       "  <thead>\n",
       "    <tr style=\"text-align: right;\">\n",
       "      <th></th>\n",
       "      <th>bat_team</th>\n",
       "      <th>bowl_team</th>\n",
       "      <th>runs</th>\n",
       "      <th>wickets</th>\n",
       "      <th>overs</th>\n",
       "      <th>runs_last_5</th>\n",
       "      <th>wickets_last_5</th>\n",
       "      <th>total</th>\n",
       "    </tr>\n",
       "  </thead>\n",
       "  <tbody>\n",
       "    <tr>\n",
       "      <th>0</th>\n",
       "      <td>Kolkata Knight Riders</td>\n",
       "      <td>Royal Challengers Bangalore</td>\n",
       "      <td>1</td>\n",
       "      <td>0</td>\n",
       "      <td>0.1</td>\n",
       "      <td>0</td>\n",
       "      <td>0</td>\n",
       "      <td>222</td>\n",
       "    </tr>\n",
       "    <tr>\n",
       "      <th>1</th>\n",
       "      <td>Kolkata Knight Riders</td>\n",
       "      <td>Royal Challengers Bangalore</td>\n",
       "      <td>1</td>\n",
       "      <td>0</td>\n",
       "      <td>0.2</td>\n",
       "      <td>0</td>\n",
       "      <td>0</td>\n",
       "      <td>222</td>\n",
       "    </tr>\n",
       "    <tr>\n",
       "      <th>2</th>\n",
       "      <td>Kolkata Knight Riders</td>\n",
       "      <td>Royal Challengers Bangalore</td>\n",
       "      <td>2</td>\n",
       "      <td>0</td>\n",
       "      <td>0.2</td>\n",
       "      <td>0</td>\n",
       "      <td>0</td>\n",
       "      <td>222</td>\n",
       "    </tr>\n",
       "    <tr>\n",
       "      <th>3</th>\n",
       "      <td>Kolkata Knight Riders</td>\n",
       "      <td>Royal Challengers Bangalore</td>\n",
       "      <td>2</td>\n",
       "      <td>0</td>\n",
       "      <td>0.3</td>\n",
       "      <td>0</td>\n",
       "      <td>0</td>\n",
       "      <td>222</td>\n",
       "    </tr>\n",
       "    <tr>\n",
       "      <th>4</th>\n",
       "      <td>Kolkata Knight Riders</td>\n",
       "      <td>Royal Challengers Bangalore</td>\n",
       "      <td>2</td>\n",
       "      <td>0</td>\n",
       "      <td>0.4</td>\n",
       "      <td>0</td>\n",
       "      <td>0</td>\n",
       "      <td>222</td>\n",
       "    </tr>\n",
       "  </tbody>\n",
       "</table>\n",
       "</div>"
      ],
      "text/plain": [
       "                bat_team                    bowl_team  runs  wickets  overs   \n",
       "0  Kolkata Knight Riders  Royal Challengers Bangalore     1        0    0.1  \\\n",
       "1  Kolkata Knight Riders  Royal Challengers Bangalore     1        0    0.2   \n",
       "2  Kolkata Knight Riders  Royal Challengers Bangalore     2        0    0.2   \n",
       "3  Kolkata Knight Riders  Royal Challengers Bangalore     2        0    0.3   \n",
       "4  Kolkata Knight Riders  Royal Challengers Bangalore     2        0    0.4   \n",
       "\n",
       "   runs_last_5  wickets_last_5  total  \n",
       "0            0               0    222  \n",
       "1            0               0    222  \n",
       "2            0               0    222  \n",
       "3            0               0    222  \n",
       "4            0               0    222  "
      ]
     },
     "execution_count": 11,
     "metadata": {},
     "output_type": "execute_result"
    }
   ],
   "source": [
    "irrelevant = ['mid', 'date', 'venue','batsman', 'bowler', 'striker', 'non-striker']\n",
    "print(f'Before Removing Irrelevant Columns : {ipl_df.shape}')\n",
    "ipl_df = ipl_df.drop(irrelevant, axis=1) # Drop Irrelevant Columns\n",
    "print(f'After Removing Irrelevant Columns : {ipl_df.shape}')\n",
    "ipl_df.head()"
   ]
  },
  {
   "cell_type": "markdown",
   "metadata": {
    "id": "1h2boQJQ-iQp"
   },
   "source": [
    "#### Keeping only Consistent Teams \n"
   ]
  },
  {
   "cell_type": "code",
   "execution_count": 12,
   "metadata": {
    "id": "J1LFaSI_8rF7"
   },
   "outputs": [],
   "source": [
    "# Define Consistent Teams\n",
    "const_teams = ['Kolkata Knight Riders', 'Chennai Super Kings', 'Rajasthan Royals',\n",
    "              'Mumbai Indians', 'Punjab Kings', 'Royal Challengers Bangalore',\n",
    "              'Delhi Capitals', 'Sunrisers Hyderabad', 'Gujarat Titans', 'Lucknow Super Giants']"
   ]
  },
  {
   "cell_type": "code",
   "execution_count": 13,
   "metadata": {
    "colab": {
     "base_uri": "https://localhost:8080/",
     "height": 315
    },
    "id": "G6r3wXug-z5r",
    "outputId": "2a6ea5ff-1b62-4c1b-bba0-a29d674b674b"
   },
   "outputs": [
    {
     "name": "stdout",
     "output_type": "stream",
     "text": [
      "Before Removing Inconsistent Teams : (83118, 8)\n",
      "After Removing Irrelevant Columns : (60915, 8)\n",
      "Consistent Teams : \n",
      "['Kolkata Knight Riders' 'Chennai Super Kings' 'Rajasthan Royals'\n",
      " 'Mumbai Indians' 'Punjab Kings' 'Royal Challengers Bangalore'\n",
      " 'Delhi Capitals' 'Sunrisers Hyderabad' 'Lucknow Super Giants'\n",
      " 'Gujarat Titans']\n"
     ]
    },
    {
     "data": {
      "text/html": [
       "<div>\n",
       "<style scoped>\n",
       "    .dataframe tbody tr th:only-of-type {\n",
       "        vertical-align: middle;\n",
       "    }\n",
       "\n",
       "    .dataframe tbody tr th {\n",
       "        vertical-align: top;\n",
       "    }\n",
       "\n",
       "    .dataframe thead th {\n",
       "        text-align: right;\n",
       "    }\n",
       "</style>\n",
       "<table border=\"1\" class=\"dataframe\">\n",
       "  <thead>\n",
       "    <tr style=\"text-align: right;\">\n",
       "      <th></th>\n",
       "      <th>bat_team</th>\n",
       "      <th>bowl_team</th>\n",
       "      <th>runs</th>\n",
       "      <th>wickets</th>\n",
       "      <th>overs</th>\n",
       "      <th>runs_last_5</th>\n",
       "      <th>wickets_last_5</th>\n",
       "      <th>total</th>\n",
       "    </tr>\n",
       "  </thead>\n",
       "  <tbody>\n",
       "    <tr>\n",
       "      <th>0</th>\n",
       "      <td>Kolkata Knight Riders</td>\n",
       "      <td>Royal Challengers Bangalore</td>\n",
       "      <td>1</td>\n",
       "      <td>0</td>\n",
       "      <td>0.1</td>\n",
       "      <td>0</td>\n",
       "      <td>0</td>\n",
       "      <td>222</td>\n",
       "    </tr>\n",
       "    <tr>\n",
       "      <th>1</th>\n",
       "      <td>Kolkata Knight Riders</td>\n",
       "      <td>Royal Challengers Bangalore</td>\n",
       "      <td>1</td>\n",
       "      <td>0</td>\n",
       "      <td>0.2</td>\n",
       "      <td>0</td>\n",
       "      <td>0</td>\n",
       "      <td>222</td>\n",
       "    </tr>\n",
       "    <tr>\n",
       "      <th>2</th>\n",
       "      <td>Kolkata Knight Riders</td>\n",
       "      <td>Royal Challengers Bangalore</td>\n",
       "      <td>2</td>\n",
       "      <td>0</td>\n",
       "      <td>0.2</td>\n",
       "      <td>0</td>\n",
       "      <td>0</td>\n",
       "      <td>222</td>\n",
       "    </tr>\n",
       "    <tr>\n",
       "      <th>3</th>\n",
       "      <td>Kolkata Knight Riders</td>\n",
       "      <td>Royal Challengers Bangalore</td>\n",
       "      <td>2</td>\n",
       "      <td>0</td>\n",
       "      <td>0.3</td>\n",
       "      <td>0</td>\n",
       "      <td>0</td>\n",
       "      <td>222</td>\n",
       "    </tr>\n",
       "    <tr>\n",
       "      <th>4</th>\n",
       "      <td>Kolkata Knight Riders</td>\n",
       "      <td>Royal Challengers Bangalore</td>\n",
       "      <td>2</td>\n",
       "      <td>0</td>\n",
       "      <td>0.4</td>\n",
       "      <td>0</td>\n",
       "      <td>0</td>\n",
       "      <td>222</td>\n",
       "    </tr>\n",
       "  </tbody>\n",
       "</table>\n",
       "</div>"
      ],
      "text/plain": [
       "                bat_team                    bowl_team  runs  wickets  overs   \n",
       "0  Kolkata Knight Riders  Royal Challengers Bangalore     1        0    0.1  \\\n",
       "1  Kolkata Knight Riders  Royal Challengers Bangalore     1        0    0.2   \n",
       "2  Kolkata Knight Riders  Royal Challengers Bangalore     2        0    0.2   \n",
       "3  Kolkata Knight Riders  Royal Challengers Bangalore     2        0    0.3   \n",
       "4  Kolkata Knight Riders  Royal Challengers Bangalore     2        0    0.4   \n",
       "\n",
       "   runs_last_5  wickets_last_5  total  \n",
       "0            0               0    222  \n",
       "1            0               0    222  \n",
       "2            0               0    222  \n",
       "3            0               0    222  \n",
       "4            0               0    222  "
      ]
     },
     "execution_count": 13,
     "metadata": {},
     "output_type": "execute_result"
    }
   ],
   "source": [
    "print(f'Before Removing Inconsistent Teams : {ipl_df.shape}')\n",
    "ipl_df = ipl_df[(ipl_df['bat_team'].isin(const_teams)) & (ipl_df['bowl_team'].isin(const_teams))]\n",
    "print(f'After Removing Irrelevant Columns : {ipl_df.shape}')\n",
    "print(f\"Consistent Teams : \\n{ipl_df['bat_team'].unique()}\")\n",
    "ipl_df.head()"
   ]
  },
  {
   "cell_type": "markdown",
   "metadata": {
    "id": "DeyQw7ipA1-r"
   },
   "source": [
    "#### Remove First 5 Overs of every match"
   ]
  },
  {
   "cell_type": "code",
   "execution_count": 14,
   "metadata": {
    "colab": {
     "base_uri": "https://localhost:8080/",
     "height": 242
    },
    "id": "A6zO88dj_5Q7",
    "outputId": "095e1472-0a64-49d2-d963-f6118e23198a"
   },
   "outputs": [
    {
     "data": {
      "text/html": [
       "<div>\n",
       "<style scoped>\n",
       "    .dataframe tbody tr th:only-of-type {\n",
       "        vertical-align: middle;\n",
       "    }\n",
       "\n",
       "    .dataframe tbody tr th {\n",
       "        vertical-align: top;\n",
       "    }\n",
       "\n",
       "    .dataframe thead th {\n",
       "        text-align: right;\n",
       "    }\n",
       "</style>\n",
       "<table border=\"1\" class=\"dataframe\">\n",
       "  <thead>\n",
       "    <tr style=\"text-align: right;\">\n",
       "      <th></th>\n",
       "      <th>bat_team</th>\n",
       "      <th>bowl_team</th>\n",
       "      <th>runs</th>\n",
       "      <th>wickets</th>\n",
       "      <th>overs</th>\n",
       "      <th>runs_last_5</th>\n",
       "      <th>wickets_last_5</th>\n",
       "      <th>total</th>\n",
       "    </tr>\n",
       "  </thead>\n",
       "  <tbody>\n",
       "    <tr>\n",
       "      <th>0</th>\n",
       "      <td>Kolkata Knight Riders</td>\n",
       "      <td>Royal Challengers Bangalore</td>\n",
       "      <td>1</td>\n",
       "      <td>0</td>\n",
       "      <td>0.1</td>\n",
       "      <td>0</td>\n",
       "      <td>0</td>\n",
       "      <td>222</td>\n",
       "    </tr>\n",
       "    <tr>\n",
       "      <th>1</th>\n",
       "      <td>Kolkata Knight Riders</td>\n",
       "      <td>Royal Challengers Bangalore</td>\n",
       "      <td>1</td>\n",
       "      <td>0</td>\n",
       "      <td>0.2</td>\n",
       "      <td>0</td>\n",
       "      <td>0</td>\n",
       "      <td>222</td>\n",
       "    </tr>\n",
       "    <tr>\n",
       "      <th>2</th>\n",
       "      <td>Kolkata Knight Riders</td>\n",
       "      <td>Royal Challengers Bangalore</td>\n",
       "      <td>2</td>\n",
       "      <td>0</td>\n",
       "      <td>0.2</td>\n",
       "      <td>0</td>\n",
       "      <td>0</td>\n",
       "      <td>222</td>\n",
       "    </tr>\n",
       "    <tr>\n",
       "      <th>3</th>\n",
       "      <td>Kolkata Knight Riders</td>\n",
       "      <td>Royal Challengers Bangalore</td>\n",
       "      <td>2</td>\n",
       "      <td>0</td>\n",
       "      <td>0.3</td>\n",
       "      <td>0</td>\n",
       "      <td>0</td>\n",
       "      <td>222</td>\n",
       "    </tr>\n",
       "    <tr>\n",
       "      <th>4</th>\n",
       "      <td>Kolkata Knight Riders</td>\n",
       "      <td>Royal Challengers Bangalore</td>\n",
       "      <td>2</td>\n",
       "      <td>0</td>\n",
       "      <td>0.4</td>\n",
       "      <td>0</td>\n",
       "      <td>0</td>\n",
       "      <td>222</td>\n",
       "    </tr>\n",
       "  </tbody>\n",
       "</table>\n",
       "</div>"
      ],
      "text/plain": [
       "                bat_team                    bowl_team  runs  wickets  overs   \n",
       "0  Kolkata Knight Riders  Royal Challengers Bangalore     1        0    0.1  \\\n",
       "1  Kolkata Knight Riders  Royal Challengers Bangalore     1        0    0.2   \n",
       "2  Kolkata Knight Riders  Royal Challengers Bangalore     2        0    0.2   \n",
       "3  Kolkata Knight Riders  Royal Challengers Bangalore     2        0    0.3   \n",
       "4  Kolkata Knight Riders  Royal Challengers Bangalore     2        0    0.4   \n",
       "\n",
       "   runs_last_5  wickets_last_5  total  \n",
       "0            0               0    222  \n",
       "1            0               0    222  \n",
       "2            0               0    222  \n",
       "3            0               0    222  \n",
       "4            0               0    222  "
      ]
     },
     "execution_count": 14,
     "metadata": {},
     "output_type": "execute_result"
    }
   ],
   "source": [
    "#print(f'Before Removing Overs : {ipl_df.shape}')\n",
    "#ipl_df = ipl_df[ipl_df['overs'] >= 5.0]\n",
    "#print(f'After Removing Overs : {ipl_df.shape}')\n",
    "ipl_df.head()"
   ]
  },
  {
   "cell_type": "markdown",
   "metadata": {
    "id": "DaD8s97SnlnO"
   },
   "source": [
    "Plotting a Correlation Matrix of current data"
   ]
  },
  {
   "cell_type": "code",
   "execution_count": null,
   "metadata": {
    "colab": {
     "base_uri": "https://localhost:8080/",
     "height": 349
    },
    "id": "UDV9JNrZkvZ1",
    "outputId": "aa172d2b-3e6b-4309-d6d3-ae0726303d51"
   },
   "outputs": [],
   "source": []
  },
  {
   "cell_type": "markdown",
   "metadata": {
    "id": "9AjtN9yMEmT0"
   },
   "source": [
    "# Data Preprocessing and Encoding"
   ]
  },
  {
   "cell_type": "markdown",
   "metadata": {
    "id": "cGhNAvUxiy2p"
   },
   "source": [
    "#### Performing Label Encoding"
   ]
  },
  {
   "cell_type": "code",
   "execution_count": 15,
   "metadata": {
    "colab": {
     "base_uri": "https://localhost:8080/",
     "height": 206
    },
    "id": "pw2DBRSAB478",
    "outputId": "ffb5f840-1066-4de8-f8ba-94eb8222df12"
   },
   "outputs": [
    {
     "data": {
      "text/html": [
       "<div>\n",
       "<style scoped>\n",
       "    .dataframe tbody tr th:only-of-type {\n",
       "        vertical-align: middle;\n",
       "    }\n",
       "\n",
       "    .dataframe tbody tr th {\n",
       "        vertical-align: top;\n",
       "    }\n",
       "\n",
       "    .dataframe thead th {\n",
       "        text-align: right;\n",
       "    }\n",
       "</style>\n",
       "<table border=\"1\" class=\"dataframe\">\n",
       "  <thead>\n",
       "    <tr style=\"text-align: right;\">\n",
       "      <th></th>\n",
       "      <th>bat_team</th>\n",
       "      <th>bowl_team</th>\n",
       "      <th>runs</th>\n",
       "      <th>wickets</th>\n",
       "      <th>overs</th>\n",
       "      <th>runs_last_5</th>\n",
       "      <th>wickets_last_5</th>\n",
       "      <th>total</th>\n",
       "    </tr>\n",
       "  </thead>\n",
       "  <tbody>\n",
       "    <tr>\n",
       "      <th>0</th>\n",
       "      <td>3</td>\n",
       "      <td>8</td>\n",
       "      <td>1</td>\n",
       "      <td>0</td>\n",
       "      <td>0.1</td>\n",
       "      <td>0</td>\n",
       "      <td>0</td>\n",
       "      <td>222</td>\n",
       "    </tr>\n",
       "    <tr>\n",
       "      <th>1</th>\n",
       "      <td>3</td>\n",
       "      <td>8</td>\n",
       "      <td>1</td>\n",
       "      <td>0</td>\n",
       "      <td>0.2</td>\n",
       "      <td>0</td>\n",
       "      <td>0</td>\n",
       "      <td>222</td>\n",
       "    </tr>\n",
       "    <tr>\n",
       "      <th>2</th>\n",
       "      <td>3</td>\n",
       "      <td>8</td>\n",
       "      <td>2</td>\n",
       "      <td>0</td>\n",
       "      <td>0.2</td>\n",
       "      <td>0</td>\n",
       "      <td>0</td>\n",
       "      <td>222</td>\n",
       "    </tr>\n",
       "    <tr>\n",
       "      <th>3</th>\n",
       "      <td>3</td>\n",
       "      <td>8</td>\n",
       "      <td>2</td>\n",
       "      <td>0</td>\n",
       "      <td>0.3</td>\n",
       "      <td>0</td>\n",
       "      <td>0</td>\n",
       "      <td>222</td>\n",
       "    </tr>\n",
       "    <tr>\n",
       "      <th>4</th>\n",
       "      <td>3</td>\n",
       "      <td>8</td>\n",
       "      <td>2</td>\n",
       "      <td>0</td>\n",
       "      <td>0.4</td>\n",
       "      <td>0</td>\n",
       "      <td>0</td>\n",
       "      <td>222</td>\n",
       "    </tr>\n",
       "  </tbody>\n",
       "</table>\n",
       "</div>"
      ],
      "text/plain": [
       "   bat_team  bowl_team  runs  wickets  overs  runs_last_5  wickets_last_5   \n",
       "0         3          8     1        0    0.1            0               0  \\\n",
       "1         3          8     1        0    0.2            0               0   \n",
       "2         3          8     2        0    0.2            0               0   \n",
       "3         3          8     2        0    0.3            0               0   \n",
       "4         3          8     2        0    0.4            0               0   \n",
       "\n",
       "   total  \n",
       "0    222  \n",
       "1    222  \n",
       "2    222  \n",
       "3    222  \n",
       "4    222  "
      ]
     },
     "execution_count": 15,
     "metadata": {},
     "output_type": "execute_result"
    }
   ],
   "source": [
    "from sklearn.preprocessing import LabelEncoder, OneHotEncoder\n",
    "le = LabelEncoder()\n",
    "for col in ['bat_team', 'bowl_team']:\n",
    "  ipl_df[col] = le.fit_transform(ipl_df[col])\n",
    "ipl_df.head()"
   ]
  },
  {
   "cell_type": "markdown",
   "metadata": {
    "id": "fOGcIT_kjBbp"
   },
   "source": [
    "#### Performing One Hot Encoding and Column Transformation"
   ]
  },
  {
   "cell_type": "code",
   "execution_count": 16,
   "metadata": {
    "id": "gTBquJ09Fqpr"
   },
   "outputs": [],
   "source": [
    "from sklearn.compose import ColumnTransformer\n",
    "columnTransformer = ColumnTransformer([('encoder', \n",
    "                                        OneHotEncoder(), \n",
    "                                        [0, 1])], \n",
    "                                      remainder='passthrough')"
   ]
  },
  {
   "cell_type": "code",
   "execution_count": 17,
   "metadata": {
    "id": "WHBT1Y68GcJn"
   },
   "outputs": [
    {
     "data": {
      "text/plain": [
       "array([[  0.,   0.,   0., ...,   0.,   0., 222.],\n",
       "       [  0.,   0.,   0., ...,   0.,   0., 222.],\n",
       "       [  0.,   0.,   0., ...,   0.,   0., 222.],\n",
       "       ...,\n",
       "       [  0.,   0.,   1., ...,   0.,   0., 133.],\n",
       "       [  0.,   0.,   1., ...,   0.,   0., 133.],\n",
       "       [  0.,   0.,   1., ...,   0.,   0., 133.]])"
      ]
     },
     "execution_count": 17,
     "metadata": {},
     "output_type": "execute_result"
    }
   ],
   "source": [
    "ipl_df = np.array(columnTransformer.fit_transform(ipl_df))\n",
    "ipl_df"
   ]
  },
  {
   "cell_type": "markdown",
   "metadata": {
    "id": "dtvG6fLUjlPV"
   },
   "source": [
    "Save the Numpy Array in a new DataFrame with transformed columns"
   ]
  },
  {
   "cell_type": "code",
   "execution_count": 18,
   "metadata": {
    "id": "qQavBDKHGia1"
   },
   "outputs": [],
   "source": [
    "cols = ['batting_team_Chennai Super Kings', 'batting_team_Delhi Capitals', 'batting_team_Punjab Kings',\n",
    "              'batting_team_Kolkata Knight Riders', 'batting_team_Mumbai Indians', 'batting_team_Rajasthan Royals',\n",
    "              'batting_team_Royal Challengers Bangalore', 'batting_team_Sunrisers Hyderabad', \n",
    "              'batting_team_Gujarat Titans', 'batting_team_Lucknow Super Giants',\n",
    "              'bowling_team_Chennai Super Kings', 'bowling_team_Delhi Capitals', 'bowling_team_Punjab Kings',\n",
    "              'bowling_team_Kolkata Knight Riders', 'bowling_team_Mumbai Indians', 'bowling_team_Rajasthan Royals',\n",
    "              'bowling_team_Royal Challengers Bangalore', 'bowling_team_Sunrisers Hyderabad', 'bowling_team_Gujarat Titans', 'bowling_team_Lucknow Super Giants', 'runs', 'wickets', 'overs','runs_last5','wickets_last_5','total']\n",
    "df = pd.DataFrame(ipl_df, columns=cols)"
   ]
  },
  {
   "cell_type": "code",
   "execution_count": 19,
   "metadata": {
    "colab": {
     "base_uri": "https://localhost:8080/",
     "height": 334
    },
    "id": "M77XEk1VGjxo",
    "outputId": "7785a43e-31b4-4077-bbaa-8cfcb32fb449"
   },
   "outputs": [
    {
     "data": {
      "text/html": [
       "<div>\n",
       "<style scoped>\n",
       "    .dataframe tbody tr th:only-of-type {\n",
       "        vertical-align: middle;\n",
       "    }\n",
       "\n",
       "    .dataframe tbody tr th {\n",
       "        vertical-align: top;\n",
       "    }\n",
       "\n",
       "    .dataframe thead th {\n",
       "        text-align: right;\n",
       "    }\n",
       "</style>\n",
       "<table border=\"1\" class=\"dataframe\">\n",
       "  <thead>\n",
       "    <tr style=\"text-align: right;\">\n",
       "      <th></th>\n",
       "      <th>batting_team_Chennai Super Kings</th>\n",
       "      <th>batting_team_Delhi Capitals</th>\n",
       "      <th>batting_team_Punjab Kings</th>\n",
       "      <th>batting_team_Kolkata Knight Riders</th>\n",
       "      <th>batting_team_Mumbai Indians</th>\n",
       "      <th>batting_team_Rajasthan Royals</th>\n",
       "      <th>batting_team_Royal Challengers Bangalore</th>\n",
       "      <th>batting_team_Sunrisers Hyderabad</th>\n",
       "      <th>batting_team_Gujarat Titans</th>\n",
       "      <th>batting_team_Lucknow Super Giants</th>\n",
       "      <th>...</th>\n",
       "      <th>bowling_team_Royal Challengers Bangalore</th>\n",
       "      <th>bowling_team_Sunrisers Hyderabad</th>\n",
       "      <th>bowling_team_Gujarat Titans</th>\n",
       "      <th>bowling_team_Lucknow Super Giants</th>\n",
       "      <th>runs</th>\n",
       "      <th>wickets</th>\n",
       "      <th>overs</th>\n",
       "      <th>runs_last5</th>\n",
       "      <th>wickets_last_5</th>\n",
       "      <th>total</th>\n",
       "    </tr>\n",
       "  </thead>\n",
       "  <tbody>\n",
       "    <tr>\n",
       "      <th>0</th>\n",
       "      <td>0.0</td>\n",
       "      <td>0.0</td>\n",
       "      <td>0.0</td>\n",
       "      <td>1.0</td>\n",
       "      <td>0.0</td>\n",
       "      <td>0.0</td>\n",
       "      <td>0.0</td>\n",
       "      <td>0.0</td>\n",
       "      <td>0.0</td>\n",
       "      <td>0.0</td>\n",
       "      <td>...</td>\n",
       "      <td>0.0</td>\n",
       "      <td>0.0</td>\n",
       "      <td>1.0</td>\n",
       "      <td>0.0</td>\n",
       "      <td>1.0</td>\n",
       "      <td>0.0</td>\n",
       "      <td>0.1</td>\n",
       "      <td>0.0</td>\n",
       "      <td>0.0</td>\n",
       "      <td>222.0</td>\n",
       "    </tr>\n",
       "    <tr>\n",
       "      <th>1</th>\n",
       "      <td>0.0</td>\n",
       "      <td>0.0</td>\n",
       "      <td>0.0</td>\n",
       "      <td>1.0</td>\n",
       "      <td>0.0</td>\n",
       "      <td>0.0</td>\n",
       "      <td>0.0</td>\n",
       "      <td>0.0</td>\n",
       "      <td>0.0</td>\n",
       "      <td>0.0</td>\n",
       "      <td>...</td>\n",
       "      <td>0.0</td>\n",
       "      <td>0.0</td>\n",
       "      <td>1.0</td>\n",
       "      <td>0.0</td>\n",
       "      <td>1.0</td>\n",
       "      <td>0.0</td>\n",
       "      <td>0.2</td>\n",
       "      <td>0.0</td>\n",
       "      <td>0.0</td>\n",
       "      <td>222.0</td>\n",
       "    </tr>\n",
       "    <tr>\n",
       "      <th>2</th>\n",
       "      <td>0.0</td>\n",
       "      <td>0.0</td>\n",
       "      <td>0.0</td>\n",
       "      <td>1.0</td>\n",
       "      <td>0.0</td>\n",
       "      <td>0.0</td>\n",
       "      <td>0.0</td>\n",
       "      <td>0.0</td>\n",
       "      <td>0.0</td>\n",
       "      <td>0.0</td>\n",
       "      <td>...</td>\n",
       "      <td>0.0</td>\n",
       "      <td>0.0</td>\n",
       "      <td>1.0</td>\n",
       "      <td>0.0</td>\n",
       "      <td>2.0</td>\n",
       "      <td>0.0</td>\n",
       "      <td>0.2</td>\n",
       "      <td>0.0</td>\n",
       "      <td>0.0</td>\n",
       "      <td>222.0</td>\n",
       "    </tr>\n",
       "    <tr>\n",
       "      <th>3</th>\n",
       "      <td>0.0</td>\n",
       "      <td>0.0</td>\n",
       "      <td>0.0</td>\n",
       "      <td>1.0</td>\n",
       "      <td>0.0</td>\n",
       "      <td>0.0</td>\n",
       "      <td>0.0</td>\n",
       "      <td>0.0</td>\n",
       "      <td>0.0</td>\n",
       "      <td>0.0</td>\n",
       "      <td>...</td>\n",
       "      <td>0.0</td>\n",
       "      <td>0.0</td>\n",
       "      <td>1.0</td>\n",
       "      <td>0.0</td>\n",
       "      <td>2.0</td>\n",
       "      <td>0.0</td>\n",
       "      <td>0.3</td>\n",
       "      <td>0.0</td>\n",
       "      <td>0.0</td>\n",
       "      <td>222.0</td>\n",
       "    </tr>\n",
       "    <tr>\n",
       "      <th>4</th>\n",
       "      <td>0.0</td>\n",
       "      <td>0.0</td>\n",
       "      <td>0.0</td>\n",
       "      <td>1.0</td>\n",
       "      <td>0.0</td>\n",
       "      <td>0.0</td>\n",
       "      <td>0.0</td>\n",
       "      <td>0.0</td>\n",
       "      <td>0.0</td>\n",
       "      <td>0.0</td>\n",
       "      <td>...</td>\n",
       "      <td>0.0</td>\n",
       "      <td>0.0</td>\n",
       "      <td>1.0</td>\n",
       "      <td>0.0</td>\n",
       "      <td>2.0</td>\n",
       "      <td>0.0</td>\n",
       "      <td>0.4</td>\n",
       "      <td>0.0</td>\n",
       "      <td>0.0</td>\n",
       "      <td>222.0</td>\n",
       "    </tr>\n",
       "  </tbody>\n",
       "</table>\n",
       "<p>5 rows × 26 columns</p>\n",
       "</div>"
      ],
      "text/plain": [
       "   batting_team_Chennai Super Kings  batting_team_Delhi Capitals   \n",
       "0                               0.0                          0.0  \\\n",
       "1                               0.0                          0.0   \n",
       "2                               0.0                          0.0   \n",
       "3                               0.0                          0.0   \n",
       "4                               0.0                          0.0   \n",
       "\n",
       "   batting_team_Punjab Kings  batting_team_Kolkata Knight Riders   \n",
       "0                        0.0                                 1.0  \\\n",
       "1                        0.0                                 1.0   \n",
       "2                        0.0                                 1.0   \n",
       "3                        0.0                                 1.0   \n",
       "4                        0.0                                 1.0   \n",
       "\n",
       "   batting_team_Mumbai Indians  batting_team_Rajasthan Royals   \n",
       "0                          0.0                            0.0  \\\n",
       "1                          0.0                            0.0   \n",
       "2                          0.0                            0.0   \n",
       "3                          0.0                            0.0   \n",
       "4                          0.0                            0.0   \n",
       "\n",
       "   batting_team_Royal Challengers Bangalore  batting_team_Sunrisers Hyderabad   \n",
       "0                                       0.0                               0.0  \\\n",
       "1                                       0.0                               0.0   \n",
       "2                                       0.0                               0.0   \n",
       "3                                       0.0                               0.0   \n",
       "4                                       0.0                               0.0   \n",
       "\n",
       "   batting_team_Gujarat Titans  batting_team_Lucknow Super Giants  ...   \n",
       "0                          0.0                                0.0  ...  \\\n",
       "1                          0.0                                0.0  ...   \n",
       "2                          0.0                                0.0  ...   \n",
       "3                          0.0                                0.0  ...   \n",
       "4                          0.0                                0.0  ...   \n",
       "\n",
       "   bowling_team_Royal Challengers Bangalore  bowling_team_Sunrisers Hyderabad   \n",
       "0                                       0.0                               0.0  \\\n",
       "1                                       0.0                               0.0   \n",
       "2                                       0.0                               0.0   \n",
       "3                                       0.0                               0.0   \n",
       "4                                       0.0                               0.0   \n",
       "\n",
       "   bowling_team_Gujarat Titans  bowling_team_Lucknow Super Giants  runs   \n",
       "0                          1.0                                0.0   1.0  \\\n",
       "1                          1.0                                0.0   1.0   \n",
       "2                          1.0                                0.0   2.0   \n",
       "3                          1.0                                0.0   2.0   \n",
       "4                          1.0                                0.0   2.0   \n",
       "\n",
       "   wickets  overs  runs_last5  wickets_last_5  total  \n",
       "0      0.0    0.1         0.0             0.0  222.0  \n",
       "1      0.0    0.2         0.0             0.0  222.0  \n",
       "2      0.0    0.2         0.0             0.0  222.0  \n",
       "3      0.0    0.3         0.0             0.0  222.0  \n",
       "4      0.0    0.4         0.0             0.0  222.0  \n",
       "\n",
       "[5 rows x 26 columns]"
      ]
     },
     "execution_count": 19,
     "metadata": {},
     "output_type": "execute_result"
    }
   ],
   "source": [
    "# Encoded Data\n",
    "df.head()\n"
   ]
  },
  {
   "cell_type": "markdown",
   "metadata": {
    "id": "t6kAENbRH7zF"
   },
   "source": [
    "# Model Building"
   ]
  },
  {
   "cell_type": "markdown",
   "metadata": {
    "id": "4_zfjKeoH-5C"
   },
   "source": [
    "## Prepare Train and Test Data"
   ]
  },
  {
   "cell_type": "code",
   "execution_count": 20,
   "metadata": {
    "id": "tLK1yUvnGuDw"
   },
   "outputs": [],
   "source": [
    "features = df.drop(['total'], axis=1)\n",
    "labels = df['total']"
   ]
  },
  {
   "cell_type": "code",
   "execution_count": 21,
   "metadata": {
    "colab": {
     "base_uri": "https://localhost:8080/"
    },
    "id": "yR7cmz0tIhZW",
    "outputId": "9606b4c0-b84b-45a6-f5fa-0ad7dc7ec28b"
   },
   "outputs": [
    {
     "name": "stdout",
     "output_type": "stream",
     "text": [
      "Training Set : (48732, 25)\n",
      "Testing Set : (12183, 25)\n"
     ]
    }
   ],
   "source": [
    "from sklearn.model_selection import train_test_split\n",
    "train_features, test_features, train_labels, test_labels = train_test_split(features, labels, test_size=0.20, shuffle=True)\n",
    "print(f\"Training Set : {train_features.shape}\\nTesting Set : {test_features.shape}\")"
   ]
  },
  {
   "cell_type": "markdown",
   "metadata": {
    "id": "J5ZhNp2EJ37b"
   },
   "source": [
    "## ML  Algorithms"
   ]
  },
  {
   "cell_type": "code",
   "execution_count": 22,
   "metadata": {
    "id": "xPgXWd3rKTnA"
   },
   "outputs": [],
   "source": [
    "models = dict()"
   ]
  },
  {
   "cell_type": "markdown",
   "metadata": {
    "id": "T7HfUM1mKK2u"
   },
   "source": [
    "#### 1. Decision Tree Regressor"
   ]
  },
  {
   "cell_type": "code",
   "execution_count": 23,
   "metadata": {
    "colab": {
     "base_uri": "https://localhost:8080/"
    },
    "id": "_X6OA45yJx0P",
    "outputId": "3f087a56-9e01-4441-b65a-4ef626f56f81"
   },
   "outputs": [
    {
     "data": {
      "text/html": [
       "<style>#sk-container-id-1 {color: black;background-color: white;}#sk-container-id-1 pre{padding: 0;}#sk-container-id-1 div.sk-toggleable {background-color: white;}#sk-container-id-1 label.sk-toggleable__label {cursor: pointer;display: block;width: 100%;margin-bottom: 0;padding: 0.3em;box-sizing: border-box;text-align: center;}#sk-container-id-1 label.sk-toggleable__label-arrow:before {content: \"▸\";float: left;margin-right: 0.25em;color: #696969;}#sk-container-id-1 label.sk-toggleable__label-arrow:hover:before {color: black;}#sk-container-id-1 div.sk-estimator:hover label.sk-toggleable__label-arrow:before {color: black;}#sk-container-id-1 div.sk-toggleable__content {max-height: 0;max-width: 0;overflow: hidden;text-align: left;background-color: #f0f8ff;}#sk-container-id-1 div.sk-toggleable__content pre {margin: 0.2em;color: black;border-radius: 0.25em;background-color: #f0f8ff;}#sk-container-id-1 input.sk-toggleable__control:checked~div.sk-toggleable__content {max-height: 200px;max-width: 100%;overflow: auto;}#sk-container-id-1 input.sk-toggleable__control:checked~label.sk-toggleable__label-arrow:before {content: \"▾\";}#sk-container-id-1 div.sk-estimator input.sk-toggleable__control:checked~label.sk-toggleable__label {background-color: #d4ebff;}#sk-container-id-1 div.sk-label input.sk-toggleable__control:checked~label.sk-toggleable__label {background-color: #d4ebff;}#sk-container-id-1 input.sk-hidden--visually {border: 0;clip: rect(1px 1px 1px 1px);clip: rect(1px, 1px, 1px, 1px);height: 1px;margin: -1px;overflow: hidden;padding: 0;position: absolute;width: 1px;}#sk-container-id-1 div.sk-estimator {font-family: monospace;background-color: #f0f8ff;border: 1px dotted black;border-radius: 0.25em;box-sizing: border-box;margin-bottom: 0.5em;}#sk-container-id-1 div.sk-estimator:hover {background-color: #d4ebff;}#sk-container-id-1 div.sk-parallel-item::after {content: \"\";width: 100%;border-bottom: 1px solid gray;flex-grow: 1;}#sk-container-id-1 div.sk-label:hover label.sk-toggleable__label {background-color: #d4ebff;}#sk-container-id-1 div.sk-serial::before {content: \"\";position: absolute;border-left: 1px solid gray;box-sizing: border-box;top: 0;bottom: 0;left: 50%;z-index: 0;}#sk-container-id-1 div.sk-serial {display: flex;flex-direction: column;align-items: center;background-color: white;padding-right: 0.2em;padding-left: 0.2em;position: relative;}#sk-container-id-1 div.sk-item {position: relative;z-index: 1;}#sk-container-id-1 div.sk-parallel {display: flex;align-items: stretch;justify-content: center;background-color: white;position: relative;}#sk-container-id-1 div.sk-item::before, #sk-container-id-1 div.sk-parallel-item::before {content: \"\";position: absolute;border-left: 1px solid gray;box-sizing: border-box;top: 0;bottom: 0;left: 50%;z-index: -1;}#sk-container-id-1 div.sk-parallel-item {display: flex;flex-direction: column;z-index: 1;position: relative;background-color: white;}#sk-container-id-1 div.sk-parallel-item:first-child::after {align-self: flex-end;width: 50%;}#sk-container-id-1 div.sk-parallel-item:last-child::after {align-self: flex-start;width: 50%;}#sk-container-id-1 div.sk-parallel-item:only-child::after {width: 0;}#sk-container-id-1 div.sk-dashed-wrapped {border: 1px dashed gray;margin: 0 0.4em 0.5em 0.4em;box-sizing: border-box;padding-bottom: 0.4em;background-color: white;}#sk-container-id-1 div.sk-label label {font-family: monospace;font-weight: bold;display: inline-block;line-height: 1.2em;}#sk-container-id-1 div.sk-label-container {text-align: center;}#sk-container-id-1 div.sk-container {/* jupyter's `normalize.less` sets `[hidden] { display: none; }` but bootstrap.min.css set `[hidden] { display: none !important; }` so we also need the `!important` here to be able to override the default hidden behavior on the sphinx rendered scikit-learn.org. See: https://github.com/scikit-learn/scikit-learn/issues/21755 */display: inline-block !important;position: relative;}#sk-container-id-1 div.sk-text-repr-fallback {display: none;}</style><div id=\"sk-container-id-1\" class=\"sk-top-container\"><div class=\"sk-text-repr-fallback\"><pre>DecisionTreeRegressor()</pre><b>In a Jupyter environment, please rerun this cell to show the HTML representation or trust the notebook. <br />On GitHub, the HTML representation is unable to render, please try loading this page with nbviewer.org.</b></div><div class=\"sk-container\" hidden><div class=\"sk-item\"><div class=\"sk-estimator sk-toggleable\"><input class=\"sk-toggleable__control sk-hidden--visually\" id=\"sk-estimator-id-1\" type=\"checkbox\" checked><label for=\"sk-estimator-id-1\" class=\"sk-toggleable__label sk-toggleable__label-arrow\">DecisionTreeRegressor</label><div class=\"sk-toggleable__content\"><pre>DecisionTreeRegressor()</pre></div></div></div></div></div>"
      ],
      "text/plain": [
       "DecisionTreeRegressor()"
      ]
     },
     "execution_count": 23,
     "metadata": {},
     "output_type": "execute_result"
    }
   ],
   "source": [
    "from sklearn.tree import DecisionTreeRegressor\n",
    "tree = DecisionTreeRegressor()\n",
    "# Train Model\n",
    "tree.fit(train_features, train_labels)"
   ]
  },
  {
   "cell_type": "code",
   "execution_count": 24,
   "metadata": {
    "colab": {
     "base_uri": "https://localhost:8080/"
    },
    "id": "S_kaCtenKiME",
    "outputId": "387c6b12-4b9c-4631-9ba0-08816bcf7dda"
   },
   "outputs": [
    {
     "name": "stdout",
     "output_type": "stream",
     "text": [
      "Train Score : 97.18%\n",
      "Test Score : 61.39%\n"
     ]
    }
   ],
   "source": [
    "# Evaluate Model\n",
    "train_score_tree = str(tree.score(train_features, train_labels) * 100)\n",
    "test_score_tree = str(tree.score(test_features, test_labels) * 100)\n",
    "print(f'Train Score : {train_score_tree[:5]}%\\nTest Score : {test_score_tree[:5]}%')\n",
    "models[\"tree\"] = test_score_tree"
   ]
  },
  {
   "cell_type": "code",
   "execution_count": 25,
   "metadata": {
    "colab": {
     "base_uri": "https://localhost:8080/"
    },
    "id": "JPNUcmG0TwoK",
    "outputId": "b9e7f491-6492-4aa3-cb60-5d59c126eb59"
   },
   "outputs": [
    {
     "name": "stdout",
     "output_type": "stream",
     "text": [
      "---- Decision Tree Regressor - Model Evaluation ----\n",
      "Mean Absolute Error (MAE): 8.225486756852183\n",
      "Mean Squared Error (MSE): 335.7865125215811\n",
      "Root Mean Squared Error (RMSE): 18.324478506128926\n"
     ]
    }
   ],
   "source": [
    "from sklearn.metrics import mean_absolute_error as mae, mean_squared_error as mse\n",
    "print(\"---- Decision Tree Regressor - Model Evaluation ----\")\n",
    "print(\"Mean Absolute Error (MAE): {}\".format(mae(test_labels, tree.predict(test_features))))\n",
    "print(\"Mean Squared Error (MSE): {}\".format(mse(test_labels, tree.predict(test_features))))\n",
    "print(\"Root Mean Squared Error (RMSE): {}\".format(np.sqrt(mse(test_labels, tree.predict(test_features)))))"
   ]
  },
  {
   "cell_type": "markdown",
   "metadata": {
    "id": "0F9fVUPuMwX0"
   },
   "source": [
    "#### Linear Regression"
   ]
  },
  {
   "cell_type": "code",
   "execution_count": 26,
   "metadata": {
    "colab": {
     "base_uri": "https://localhost:8080/"
    },
    "id": "RvNDa8MGdYYs",
    "outputId": "4a92f83b-dd4f-40b7-9d62-6962ec810e6c"
   },
   "outputs": [
    {
     "data": {
      "text/html": [
       "<style>#sk-container-id-2 {color: black;background-color: white;}#sk-container-id-2 pre{padding: 0;}#sk-container-id-2 div.sk-toggleable {background-color: white;}#sk-container-id-2 label.sk-toggleable__label {cursor: pointer;display: block;width: 100%;margin-bottom: 0;padding: 0.3em;box-sizing: border-box;text-align: center;}#sk-container-id-2 label.sk-toggleable__label-arrow:before {content: \"▸\";float: left;margin-right: 0.25em;color: #696969;}#sk-container-id-2 label.sk-toggleable__label-arrow:hover:before {color: black;}#sk-container-id-2 div.sk-estimator:hover label.sk-toggleable__label-arrow:before {color: black;}#sk-container-id-2 div.sk-toggleable__content {max-height: 0;max-width: 0;overflow: hidden;text-align: left;background-color: #f0f8ff;}#sk-container-id-2 div.sk-toggleable__content pre {margin: 0.2em;color: black;border-radius: 0.25em;background-color: #f0f8ff;}#sk-container-id-2 input.sk-toggleable__control:checked~div.sk-toggleable__content {max-height: 200px;max-width: 100%;overflow: auto;}#sk-container-id-2 input.sk-toggleable__control:checked~label.sk-toggleable__label-arrow:before {content: \"▾\";}#sk-container-id-2 div.sk-estimator input.sk-toggleable__control:checked~label.sk-toggleable__label {background-color: #d4ebff;}#sk-container-id-2 div.sk-label input.sk-toggleable__control:checked~label.sk-toggleable__label {background-color: #d4ebff;}#sk-container-id-2 input.sk-hidden--visually {border: 0;clip: rect(1px 1px 1px 1px);clip: rect(1px, 1px, 1px, 1px);height: 1px;margin: -1px;overflow: hidden;padding: 0;position: absolute;width: 1px;}#sk-container-id-2 div.sk-estimator {font-family: monospace;background-color: #f0f8ff;border: 1px dotted black;border-radius: 0.25em;box-sizing: border-box;margin-bottom: 0.5em;}#sk-container-id-2 div.sk-estimator:hover {background-color: #d4ebff;}#sk-container-id-2 div.sk-parallel-item::after {content: \"\";width: 100%;border-bottom: 1px solid gray;flex-grow: 1;}#sk-container-id-2 div.sk-label:hover label.sk-toggleable__label {background-color: #d4ebff;}#sk-container-id-2 div.sk-serial::before {content: \"\";position: absolute;border-left: 1px solid gray;box-sizing: border-box;top: 0;bottom: 0;left: 50%;z-index: 0;}#sk-container-id-2 div.sk-serial {display: flex;flex-direction: column;align-items: center;background-color: white;padding-right: 0.2em;padding-left: 0.2em;position: relative;}#sk-container-id-2 div.sk-item {position: relative;z-index: 1;}#sk-container-id-2 div.sk-parallel {display: flex;align-items: stretch;justify-content: center;background-color: white;position: relative;}#sk-container-id-2 div.sk-item::before, #sk-container-id-2 div.sk-parallel-item::before {content: \"\";position: absolute;border-left: 1px solid gray;box-sizing: border-box;top: 0;bottom: 0;left: 50%;z-index: -1;}#sk-container-id-2 div.sk-parallel-item {display: flex;flex-direction: column;z-index: 1;position: relative;background-color: white;}#sk-container-id-2 div.sk-parallel-item:first-child::after {align-self: flex-end;width: 50%;}#sk-container-id-2 div.sk-parallel-item:last-child::after {align-self: flex-start;width: 50%;}#sk-container-id-2 div.sk-parallel-item:only-child::after {width: 0;}#sk-container-id-2 div.sk-dashed-wrapped {border: 1px dashed gray;margin: 0 0.4em 0.5em 0.4em;box-sizing: border-box;padding-bottom: 0.4em;background-color: white;}#sk-container-id-2 div.sk-label label {font-family: monospace;font-weight: bold;display: inline-block;line-height: 1.2em;}#sk-container-id-2 div.sk-label-container {text-align: center;}#sk-container-id-2 div.sk-container {/* jupyter's `normalize.less` sets `[hidden] { display: none; }` but bootstrap.min.css set `[hidden] { display: none !important; }` so we also need the `!important` here to be able to override the default hidden behavior on the sphinx rendered scikit-learn.org. See: https://github.com/scikit-learn/scikit-learn/issues/21755 */display: inline-block !important;position: relative;}#sk-container-id-2 div.sk-text-repr-fallback {display: none;}</style><div id=\"sk-container-id-2\" class=\"sk-top-container\"><div class=\"sk-text-repr-fallback\"><pre>LinearRegression()</pre><b>In a Jupyter environment, please rerun this cell to show the HTML representation or trust the notebook. <br />On GitHub, the HTML representation is unable to render, please try loading this page with nbviewer.org.</b></div><div class=\"sk-container\" hidden><div class=\"sk-item\"><div class=\"sk-estimator sk-toggleable\"><input class=\"sk-toggleable__control sk-hidden--visually\" id=\"sk-estimator-id-2\" type=\"checkbox\" checked><label for=\"sk-estimator-id-2\" class=\"sk-toggleable__label sk-toggleable__label-arrow\">LinearRegression</label><div class=\"sk-toggleable__content\"><pre>LinearRegression()</pre></div></div></div></div></div>"
      ],
      "text/plain": [
       "LinearRegression()"
      ]
     },
     "execution_count": 26,
     "metadata": {},
     "output_type": "execute_result"
    }
   ],
   "source": [
    "from sklearn.linear_model import LinearRegression\n",
    "linreg = LinearRegression()\n",
    "# Train Model\n",
    "linreg.fit(train_features, train_labels)"
   ]
  },
  {
   "cell_type": "code",
   "execution_count": 27,
   "metadata": {
    "colab": {
     "base_uri": "https://localhost:8080/"
    },
    "id": "kHOQcP-PQGYq",
    "outputId": "8b25755f-a80a-4529-8331-610b17f693bb"
   },
   "outputs": [
    {
     "name": "stdout",
     "output_type": "stream",
     "text": [
      "Train Score : 48.66%\n",
      "Test Score : 46.70%\n"
     ]
    }
   ],
   "source": [
    "# Evaluate Model\n",
    "train_score_linreg = str(linreg.score(train_features, train_labels) * 100)\n",
    "test_score_linreg = str(linreg.score(test_features, test_labels) * 100)\n",
    "print(f'Train Score : {train_score_linreg[:5]}%\\nTest Score : {test_score_linreg[:5]}%')\n",
    "models[\"linreg\"] = test_score_linreg"
   ]
  },
  {
   "cell_type": "code",
   "execution_count": 28,
   "metadata": {
    "colab": {
     "base_uri": "https://localhost:8080/"
    },
    "id": "nVSzI12HRnnF",
    "outputId": "ac24b590-78ee-48da-cc37-9392403d92ef"
   },
   "outputs": [
    {
     "name": "stdout",
     "output_type": "stream",
     "text": [
      "---- Linear Regression - Model Evaluation ----\n",
      "Mean Absolute Error (MAE): 15.88125988846683\n",
      "Mean Squared Error (MSE): 463.56815677250023\n",
      "Root Mean Squared Error (RMSE): 21.5306329858762\n"
     ]
    }
   ],
   "source": [
    "print(\"---- Linear Regression - Model Evaluation ----\")\n",
    "print(\"Mean Absolute Error (MAE): {}\".format(mae(test_labels, linreg.predict(test_features))))\n",
    "print(\"Mean Squared Error (MSE): {}\".format(mse(test_labels, linreg.predict(test_features))))\n",
    "print(\"Root Mean Squared Error (RMSE): {}\".format(np.sqrt(mse(test_labels, linreg.predict(test_features)))))"
   ]
  },
  {
   "cell_type": "markdown",
   "metadata": {
    "id": "PPjZxiqnT3NC"
   },
   "source": [
    "#### Random Forest Regression"
   ]
  },
  {
   "cell_type": "code",
   "execution_count": 29,
   "metadata": {
    "colab": {
     "base_uri": "https://localhost:8080/"
    },
    "id": "ub06meKxTlZh",
    "outputId": "f83041a5-beec-4f7c-b917-1eca6646ae3e"
   },
   "outputs": [
    {
     "data": {
      "text/html": [
       "<style>#sk-container-id-3 {color: black;background-color: white;}#sk-container-id-3 pre{padding: 0;}#sk-container-id-3 div.sk-toggleable {background-color: white;}#sk-container-id-3 label.sk-toggleable__label {cursor: pointer;display: block;width: 100%;margin-bottom: 0;padding: 0.3em;box-sizing: border-box;text-align: center;}#sk-container-id-3 label.sk-toggleable__label-arrow:before {content: \"▸\";float: left;margin-right: 0.25em;color: #696969;}#sk-container-id-3 label.sk-toggleable__label-arrow:hover:before {color: black;}#sk-container-id-3 div.sk-estimator:hover label.sk-toggleable__label-arrow:before {color: black;}#sk-container-id-3 div.sk-toggleable__content {max-height: 0;max-width: 0;overflow: hidden;text-align: left;background-color: #f0f8ff;}#sk-container-id-3 div.sk-toggleable__content pre {margin: 0.2em;color: black;border-radius: 0.25em;background-color: #f0f8ff;}#sk-container-id-3 input.sk-toggleable__control:checked~div.sk-toggleable__content {max-height: 200px;max-width: 100%;overflow: auto;}#sk-container-id-3 input.sk-toggleable__control:checked~label.sk-toggleable__label-arrow:before {content: \"▾\";}#sk-container-id-3 div.sk-estimator input.sk-toggleable__control:checked~label.sk-toggleable__label {background-color: #d4ebff;}#sk-container-id-3 div.sk-label input.sk-toggleable__control:checked~label.sk-toggleable__label {background-color: #d4ebff;}#sk-container-id-3 input.sk-hidden--visually {border: 0;clip: rect(1px 1px 1px 1px);clip: rect(1px, 1px, 1px, 1px);height: 1px;margin: -1px;overflow: hidden;padding: 0;position: absolute;width: 1px;}#sk-container-id-3 div.sk-estimator {font-family: monospace;background-color: #f0f8ff;border: 1px dotted black;border-radius: 0.25em;box-sizing: border-box;margin-bottom: 0.5em;}#sk-container-id-3 div.sk-estimator:hover {background-color: #d4ebff;}#sk-container-id-3 div.sk-parallel-item::after {content: \"\";width: 100%;border-bottom: 1px solid gray;flex-grow: 1;}#sk-container-id-3 div.sk-label:hover label.sk-toggleable__label {background-color: #d4ebff;}#sk-container-id-3 div.sk-serial::before {content: \"\";position: absolute;border-left: 1px solid gray;box-sizing: border-box;top: 0;bottom: 0;left: 50%;z-index: 0;}#sk-container-id-3 div.sk-serial {display: flex;flex-direction: column;align-items: center;background-color: white;padding-right: 0.2em;padding-left: 0.2em;position: relative;}#sk-container-id-3 div.sk-item {position: relative;z-index: 1;}#sk-container-id-3 div.sk-parallel {display: flex;align-items: stretch;justify-content: center;background-color: white;position: relative;}#sk-container-id-3 div.sk-item::before, #sk-container-id-3 div.sk-parallel-item::before {content: \"\";position: absolute;border-left: 1px solid gray;box-sizing: border-box;top: 0;bottom: 0;left: 50%;z-index: -1;}#sk-container-id-3 div.sk-parallel-item {display: flex;flex-direction: column;z-index: 1;position: relative;background-color: white;}#sk-container-id-3 div.sk-parallel-item:first-child::after {align-self: flex-end;width: 50%;}#sk-container-id-3 div.sk-parallel-item:last-child::after {align-self: flex-start;width: 50%;}#sk-container-id-3 div.sk-parallel-item:only-child::after {width: 0;}#sk-container-id-3 div.sk-dashed-wrapped {border: 1px dashed gray;margin: 0 0.4em 0.5em 0.4em;box-sizing: border-box;padding-bottom: 0.4em;background-color: white;}#sk-container-id-3 div.sk-label label {font-family: monospace;font-weight: bold;display: inline-block;line-height: 1.2em;}#sk-container-id-3 div.sk-label-container {text-align: center;}#sk-container-id-3 div.sk-container {/* jupyter's `normalize.less` sets `[hidden] { display: none; }` but bootstrap.min.css set `[hidden] { display: none !important; }` so we also need the `!important` here to be able to override the default hidden behavior on the sphinx rendered scikit-learn.org. See: https://github.com/scikit-learn/scikit-learn/issues/21755 */display: inline-block !important;position: relative;}#sk-container-id-3 div.sk-text-repr-fallback {display: none;}</style><div id=\"sk-container-id-3\" class=\"sk-top-container\"><div class=\"sk-text-repr-fallback\"><pre>RandomForestRegressor()</pre><b>In a Jupyter environment, please rerun this cell to show the HTML representation or trust the notebook. <br />On GitHub, the HTML representation is unable to render, please try loading this page with nbviewer.org.</b></div><div class=\"sk-container\" hidden><div class=\"sk-item\"><div class=\"sk-estimator sk-toggleable\"><input class=\"sk-toggleable__control sk-hidden--visually\" id=\"sk-estimator-id-3\" type=\"checkbox\" checked><label for=\"sk-estimator-id-3\" class=\"sk-toggleable__label sk-toggleable__label-arrow\">RandomForestRegressor</label><div class=\"sk-toggleable__content\"><pre>RandomForestRegressor()</pre></div></div></div></div></div>"
      ],
      "text/plain": [
       "RandomForestRegressor()"
      ]
     },
     "execution_count": 29,
     "metadata": {},
     "output_type": "execute_result"
    }
   ],
   "source": [
    "from sklearn.ensemble import RandomForestRegressor\n",
    "forest = RandomForestRegressor()\n",
    "# Train Model\n",
    "forest.fit(train_features, train_labels)"
   ]
  },
  {
   "cell_type": "code",
   "execution_count": 30,
   "metadata": {
    "colab": {
     "base_uri": "https://localhost:8080/"
    },
    "id": "o3o7ax7BUOke",
    "outputId": "d9bdf428-63b1-4b18-eba3-17763b0ab7d1"
   },
   "outputs": [
    {
     "name": "stdout",
     "output_type": "stream",
     "text": [
      "Train Score : 95.04%\n",
      "Test Score : 76.98%\n"
     ]
    }
   ],
   "source": [
    "# Evaluate Model\n",
    "train_score_forest = str(forest.score(train_features, train_labels)*100)\n",
    "test_score_forest = str(forest.score(test_features, test_labels)*100)\n",
    "print(f'Train Score : {train_score_forest[:5]}%\\nTest Score : {test_score_forest[:5]}%')\n",
    "models[\"forest\"] = test_score_forest"
   ]
  },
  {
   "cell_type": "code",
   "execution_count": 31,
   "metadata": {
    "colab": {
     "base_uri": "https://localhost:8080/"
    },
    "id": "r82lD-fkebkn",
    "outputId": "2f6174f6-9e4b-46fc-c10c-a983d8c91c44"
   },
   "outputs": [
    {
     "name": "stdout",
     "output_type": "stream",
     "text": [
      "---- Random Forest Regression - Model Evaluation ----\n",
      "Mean Absolute Error (MAE): 8.136849730337971\n",
      "Mean Squared Error (MSE): 200.21366639606862\n",
      "Root Mean Squared Error (RMSE): 14.149687855075411\n"
     ]
    }
   ],
   "source": [
    "print(\"---- Random Forest Regression - Model Evaluation ----\")\n",
    "print(\"Mean Absolute Error (MAE): {}\".format(mae(test_labels, forest.predict(test_features))))\n",
    "print(\"Mean Squared Error (MSE): {}\".format(mse(test_labels, forest.predict(test_features))))\n",
    "print(\"Root Mean Squared Error (RMSE): {}\".format(np.sqrt(mse(test_labels, forest.predict(test_features)))))"
   ]
  },
  {
   "cell_type": "markdown",
   "metadata": {
    "id": "64qH8gtlev5U"
   },
   "source": [
    "#### Support Vector Machine"
   ]
  },
  {
   "cell_type": "code",
   "execution_count": 131,
   "metadata": {
    "colab": {
     "base_uri": "https://localhost:8080/"
    },
    "id": "YzJJ9DUUezZj",
    "outputId": "23827b4f-ad96-4f6b-ffa2-c1953803b938"
   },
   "outputs": [
    {
     "data": {
      "text/html": [
       "<style>#sk-container-id-7 {color: black;background-color: white;}#sk-container-id-7 pre{padding: 0;}#sk-container-id-7 div.sk-toggleable {background-color: white;}#sk-container-id-7 label.sk-toggleable__label {cursor: pointer;display: block;width: 100%;margin-bottom: 0;padding: 0.3em;box-sizing: border-box;text-align: center;}#sk-container-id-7 label.sk-toggleable__label-arrow:before {content: \"▸\";float: left;margin-right: 0.25em;color: #696969;}#sk-container-id-7 label.sk-toggleable__label-arrow:hover:before {color: black;}#sk-container-id-7 div.sk-estimator:hover label.sk-toggleable__label-arrow:before {color: black;}#sk-container-id-7 div.sk-toggleable__content {max-height: 0;max-width: 0;overflow: hidden;text-align: left;background-color: #f0f8ff;}#sk-container-id-7 div.sk-toggleable__content pre {margin: 0.2em;color: black;border-radius: 0.25em;background-color: #f0f8ff;}#sk-container-id-7 input.sk-toggleable__control:checked~div.sk-toggleable__content {max-height: 200px;max-width: 100%;overflow: auto;}#sk-container-id-7 input.sk-toggleable__control:checked~label.sk-toggleable__label-arrow:before {content: \"▾\";}#sk-container-id-7 div.sk-estimator input.sk-toggleable__control:checked~label.sk-toggleable__label {background-color: #d4ebff;}#sk-container-id-7 div.sk-label input.sk-toggleable__control:checked~label.sk-toggleable__label {background-color: #d4ebff;}#sk-container-id-7 input.sk-hidden--visually {border: 0;clip: rect(1px 1px 1px 1px);clip: rect(1px, 1px, 1px, 1px);height: 1px;margin: -1px;overflow: hidden;padding: 0;position: absolute;width: 1px;}#sk-container-id-7 div.sk-estimator {font-family: monospace;background-color: #f0f8ff;border: 1px dotted black;border-radius: 0.25em;box-sizing: border-box;margin-bottom: 0.5em;}#sk-container-id-7 div.sk-estimator:hover {background-color: #d4ebff;}#sk-container-id-7 div.sk-parallel-item::after {content: \"\";width: 100%;border-bottom: 1px solid gray;flex-grow: 1;}#sk-container-id-7 div.sk-label:hover label.sk-toggleable__label {background-color: #d4ebff;}#sk-container-id-7 div.sk-serial::before {content: \"\";position: absolute;border-left: 1px solid gray;box-sizing: border-box;top: 0;bottom: 0;left: 50%;z-index: 0;}#sk-container-id-7 div.sk-serial {display: flex;flex-direction: column;align-items: center;background-color: white;padding-right: 0.2em;padding-left: 0.2em;position: relative;}#sk-container-id-7 div.sk-item {position: relative;z-index: 1;}#sk-container-id-7 div.sk-parallel {display: flex;align-items: stretch;justify-content: center;background-color: white;position: relative;}#sk-container-id-7 div.sk-item::before, #sk-container-id-7 div.sk-parallel-item::before {content: \"\";position: absolute;border-left: 1px solid gray;box-sizing: border-box;top: 0;bottom: 0;left: 50%;z-index: -1;}#sk-container-id-7 div.sk-parallel-item {display: flex;flex-direction: column;z-index: 1;position: relative;background-color: white;}#sk-container-id-7 div.sk-parallel-item:first-child::after {align-self: flex-end;width: 50%;}#sk-container-id-7 div.sk-parallel-item:last-child::after {align-self: flex-start;width: 50%;}#sk-container-id-7 div.sk-parallel-item:only-child::after {width: 0;}#sk-container-id-7 div.sk-dashed-wrapped {border: 1px dashed gray;margin: 0 0.4em 0.5em 0.4em;box-sizing: border-box;padding-bottom: 0.4em;background-color: white;}#sk-container-id-7 div.sk-label label {font-family: monospace;font-weight: bold;display: inline-block;line-height: 1.2em;}#sk-container-id-7 div.sk-label-container {text-align: center;}#sk-container-id-7 div.sk-container {/* jupyter's `normalize.less` sets `[hidden] { display: none; }` but bootstrap.min.css set `[hidden] { display: none !important; }` so we also need the `!important` here to be able to override the default hidden behavior on the sphinx rendered scikit-learn.org. See: https://github.com/scikit-learn/scikit-learn/issues/21755 */display: inline-block !important;position: relative;}#sk-container-id-7 div.sk-text-repr-fallback {display: none;}</style><div id=\"sk-container-id-7\" class=\"sk-top-container\"><div class=\"sk-text-repr-fallback\"><pre>SVR()</pre><b>In a Jupyter environment, please rerun this cell to show the HTML representation or trust the notebook. <br />On GitHub, the HTML representation is unable to render, please try loading this page with nbviewer.org.</b></div><div class=\"sk-container\" hidden><div class=\"sk-item\"><div class=\"sk-estimator sk-toggleable\"><input class=\"sk-toggleable__control sk-hidden--visually\" id=\"sk-estimator-id-7\" type=\"checkbox\" checked><label for=\"sk-estimator-id-7\" class=\"sk-toggleable__label sk-toggleable__label-arrow\">SVR</label><div class=\"sk-toggleable__content\"><pre>SVR()</pre></div></div></div></div></div>"
      ],
      "text/plain": [
       "SVR()"
      ]
     },
     "execution_count": 131,
     "metadata": {},
     "output_type": "execute_result"
    }
   ],
   "source": [
    "from sklearn.svm import SVR\n",
    "svm = SVR()\n",
    "# Train Model\n",
    "svm.fit(train_features, train_labels)"
   ]
  },
  {
   "cell_type": "code",
   "execution_count": 132,
   "metadata": {
    "colab": {
     "base_uri": "https://localhost:8080/"
    },
    "id": "sqLSvMIce_Pt",
    "outputId": "b8610c13-dc7e-41fd-a7db-7f93067fb0f1"
   },
   "outputs": [
    {
     "name": "stdout",
     "output_type": "stream",
     "text": [
      "Train Score : 55.43%\n",
      "Test Score : 55.97%\n"
     ]
    }
   ],
   "source": [
    "train_score_svm = str(svm.score(train_features, train_labels)*100)\n",
    "test_score_svm = str(svm.score(test_features, test_labels)*100)\n",
    "print(f'Train Score : {train_score_svm[:5]}%\\nTest Score : {test_score_svm[:5]}%')\n",
    "models[\"svm\"] = test_score_svm "
   ]
  },
  {
   "cell_type": "code",
   "execution_count": 133,
   "metadata": {
    "colab": {
     "base_uri": "https://localhost:8080/"
    },
    "id": "5fSWYF30jxLr",
    "outputId": "005615b7-c487-4dc0-8586-7ecb4d1ef8bf"
   },
   "outputs": [
    {
     "name": "stdout",
     "output_type": "stream",
     "text": [
      "---- Support Vector Regression - Model Evaluation ----\n",
      "Mean Absolute Error (MAE): 14.604344047818387\n",
      "Mean Squared Error (MSE): 384.59457636380404\n",
      "Root Mean Squared Error (RMSE): 19.611082998238626\n"
     ]
    }
   ],
   "source": [
    "print(\"---- Support Vector Regression - Model Evaluation ----\")\n",
    "print(\"Mean Absolute Error (MAE): {}\".format(mae(test_labels, svm.predict(test_features))))\n",
    "print(\"Mean Squared Error (MSE): {}\".format(mse(test_labels, svm.predict(test_features))))\n",
    "print(\"Root Mean Squared Error (RMSE): {}\".format(np.sqrt(mse(test_labels, svm.predict(test_features)))))"
   ]
  },
  {
   "cell_type": "markdown",
   "metadata": {
    "id": "rRroeuZElfea"
   },
   "source": [
    "#### XGBoost"
   ]
  },
  {
   "cell_type": "code",
   "execution_count": 134,
   "metadata": {
    "colab": {
     "base_uri": "https://localhost:8080/"
    },
    "id": "YMQL5K7EkAuB",
    "outputId": "9d4e90dc-1c25-43c2-9a01-3415e50f3a36"
   },
   "outputs": [
    {
     "data": {
      "text/html": [
       "<style>#sk-container-id-8 {color: black;background-color: white;}#sk-container-id-8 pre{padding: 0;}#sk-container-id-8 div.sk-toggleable {background-color: white;}#sk-container-id-8 label.sk-toggleable__label {cursor: pointer;display: block;width: 100%;margin-bottom: 0;padding: 0.3em;box-sizing: border-box;text-align: center;}#sk-container-id-8 label.sk-toggleable__label-arrow:before {content: \"▸\";float: left;margin-right: 0.25em;color: #696969;}#sk-container-id-8 label.sk-toggleable__label-arrow:hover:before {color: black;}#sk-container-id-8 div.sk-estimator:hover label.sk-toggleable__label-arrow:before {color: black;}#sk-container-id-8 div.sk-toggleable__content {max-height: 0;max-width: 0;overflow: hidden;text-align: left;background-color: #f0f8ff;}#sk-container-id-8 div.sk-toggleable__content pre {margin: 0.2em;color: black;border-radius: 0.25em;background-color: #f0f8ff;}#sk-container-id-8 input.sk-toggleable__control:checked~div.sk-toggleable__content {max-height: 200px;max-width: 100%;overflow: auto;}#sk-container-id-8 input.sk-toggleable__control:checked~label.sk-toggleable__label-arrow:before {content: \"▾\";}#sk-container-id-8 div.sk-estimator input.sk-toggleable__control:checked~label.sk-toggleable__label {background-color: #d4ebff;}#sk-container-id-8 div.sk-label input.sk-toggleable__control:checked~label.sk-toggleable__label {background-color: #d4ebff;}#sk-container-id-8 input.sk-hidden--visually {border: 0;clip: rect(1px 1px 1px 1px);clip: rect(1px, 1px, 1px, 1px);height: 1px;margin: -1px;overflow: hidden;padding: 0;position: absolute;width: 1px;}#sk-container-id-8 div.sk-estimator {font-family: monospace;background-color: #f0f8ff;border: 1px dotted black;border-radius: 0.25em;box-sizing: border-box;margin-bottom: 0.5em;}#sk-container-id-8 div.sk-estimator:hover {background-color: #d4ebff;}#sk-container-id-8 div.sk-parallel-item::after {content: \"\";width: 100%;border-bottom: 1px solid gray;flex-grow: 1;}#sk-container-id-8 div.sk-label:hover label.sk-toggleable__label {background-color: #d4ebff;}#sk-container-id-8 div.sk-serial::before {content: \"\";position: absolute;border-left: 1px solid gray;box-sizing: border-box;top: 0;bottom: 0;left: 50%;z-index: 0;}#sk-container-id-8 div.sk-serial {display: flex;flex-direction: column;align-items: center;background-color: white;padding-right: 0.2em;padding-left: 0.2em;position: relative;}#sk-container-id-8 div.sk-item {position: relative;z-index: 1;}#sk-container-id-8 div.sk-parallel {display: flex;align-items: stretch;justify-content: center;background-color: white;position: relative;}#sk-container-id-8 div.sk-item::before, #sk-container-id-8 div.sk-parallel-item::before {content: \"\";position: absolute;border-left: 1px solid gray;box-sizing: border-box;top: 0;bottom: 0;left: 50%;z-index: -1;}#sk-container-id-8 div.sk-parallel-item {display: flex;flex-direction: column;z-index: 1;position: relative;background-color: white;}#sk-container-id-8 div.sk-parallel-item:first-child::after {align-self: flex-end;width: 50%;}#sk-container-id-8 div.sk-parallel-item:last-child::after {align-self: flex-start;width: 50%;}#sk-container-id-8 div.sk-parallel-item:only-child::after {width: 0;}#sk-container-id-8 div.sk-dashed-wrapped {border: 1px dashed gray;margin: 0 0.4em 0.5em 0.4em;box-sizing: border-box;padding-bottom: 0.4em;background-color: white;}#sk-container-id-8 div.sk-label label {font-family: monospace;font-weight: bold;display: inline-block;line-height: 1.2em;}#sk-container-id-8 div.sk-label-container {text-align: center;}#sk-container-id-8 div.sk-container {/* jupyter's `normalize.less` sets `[hidden] { display: none; }` but bootstrap.min.css set `[hidden] { display: none !important; }` so we also need the `!important` here to be able to override the default hidden behavior on the sphinx rendered scikit-learn.org. See: https://github.com/scikit-learn/scikit-learn/issues/21755 */display: inline-block !important;position: relative;}#sk-container-id-8 div.sk-text-repr-fallback {display: none;}</style><div id=\"sk-container-id-8\" class=\"sk-top-container\"><div class=\"sk-text-repr-fallback\"><pre>XGBRegressor(base_score=None, booster=None, callbacks=None,\n",
       "             colsample_bylevel=None, colsample_bynode=None,\n",
       "             colsample_bytree=None, early_stopping_rounds=None,\n",
       "             enable_categorical=False, eval_metric=None, feature_types=None,\n",
       "             gamma=None, gpu_id=None, grow_policy=None, importance_type=None,\n",
       "             interaction_constraints=None, learning_rate=None, max_bin=None,\n",
       "             max_cat_threshold=None, max_cat_to_onehot=None,\n",
       "             max_delta_step=None, max_depth=None, max_leaves=None,\n",
       "             min_child_weight=None, missing=nan, monotone_constraints=None,\n",
       "             n_estimators=100, n_jobs=None, num_parallel_tree=None,\n",
       "             predictor=None, random_state=None, ...)</pre><b>In a Jupyter environment, please rerun this cell to show the HTML representation or trust the notebook. <br />On GitHub, the HTML representation is unable to render, please try loading this page with nbviewer.org.</b></div><div class=\"sk-container\" hidden><div class=\"sk-item\"><div class=\"sk-estimator sk-toggleable\"><input class=\"sk-toggleable__control sk-hidden--visually\" id=\"sk-estimator-id-8\" type=\"checkbox\" checked><label for=\"sk-estimator-id-8\" class=\"sk-toggleable__label sk-toggleable__label-arrow\">XGBRegressor</label><div class=\"sk-toggleable__content\"><pre>XGBRegressor(base_score=None, booster=None, callbacks=None,\n",
       "             colsample_bylevel=None, colsample_bynode=None,\n",
       "             colsample_bytree=None, early_stopping_rounds=None,\n",
       "             enable_categorical=False, eval_metric=None, feature_types=None,\n",
       "             gamma=None, gpu_id=None, grow_policy=None, importance_type=None,\n",
       "             interaction_constraints=None, learning_rate=None, max_bin=None,\n",
       "             max_cat_threshold=None, max_cat_to_onehot=None,\n",
       "             max_delta_step=None, max_depth=None, max_leaves=None,\n",
       "             min_child_weight=None, missing=nan, monotone_constraints=None,\n",
       "             n_estimators=100, n_jobs=None, num_parallel_tree=None,\n",
       "             predictor=None, random_state=None, ...)</pre></div></div></div></div></div>"
      ],
      "text/plain": [
       "XGBRegressor(base_score=None, booster=None, callbacks=None,\n",
       "             colsample_bylevel=None, colsample_bynode=None,\n",
       "             colsample_bytree=None, early_stopping_rounds=None,\n",
       "             enable_categorical=False, eval_metric=None, feature_types=None,\n",
       "             gamma=None, gpu_id=None, grow_policy=None, importance_type=None,\n",
       "             interaction_constraints=None, learning_rate=None, max_bin=None,\n",
       "             max_cat_threshold=None, max_cat_to_onehot=None,\n",
       "             max_delta_step=None, max_depth=None, max_leaves=None,\n",
       "             min_child_weight=None, missing=nan, monotone_constraints=None,\n",
       "             n_estimators=100, n_jobs=None, num_parallel_tree=None,\n",
       "             predictor=None, random_state=None, ...)"
      ]
     },
     "execution_count": 134,
     "metadata": {},
     "output_type": "execute_result"
    }
   ],
   "source": [
    "from xgboost import XGBRegressor\n",
    "xgb = XGBRegressor()\n",
    "# Train Model\n",
    "xgb.fit(train_features, train_labels)"
   ]
  },
  {
   "cell_type": "code",
   "execution_count": 135,
   "metadata": {
    "colab": {
     "base_uri": "https://localhost:8080/"
    },
    "id": "XlSAZ_4skUDj",
    "outputId": "f339d118-9dfd-49f9-8a9a-3a7fb3b459f4"
   },
   "outputs": [
    {
     "name": "stdout",
     "output_type": "stream",
     "text": [
      "Train Score : 84.67%\n",
      "Test Score : 81.69%\n"
     ]
    }
   ],
   "source": [
    "train_score_xgb = str(xgb.score(train_features, train_labels)*100)\n",
    "test_score_xgb = str(xgb.score(test_features, test_labels)*100)\n",
    "print(f'Train Score : {train_score_xgb[:5]}%\\nTest Score : {test_score_xgb[:5]}%')\n",
    "models[\"xgb\"] = test_score_xgb"
   ]
  },
  {
   "cell_type": "code",
   "execution_count": 136,
   "metadata": {
    "colab": {
     "base_uri": "https://localhost:8080/"
    },
    "id": "1xhaNnp-kRkG",
    "outputId": "87390532-c4f3-4ad9-fd56-fe93e45fd0fd"
   },
   "outputs": [
    {
     "name": "stdout",
     "output_type": "stream",
     "text": [
      "---- XGB Regression - Model Evaluation ----\n",
      "Mean Absolute Error (MAE): 8.989161148860942\n",
      "Mean Squared Error (MSE): 159.90619367583665\n",
      "Root Mean Squared Error (RMSE): 12.645402076479682\n"
     ]
    }
   ],
   "source": [
    "print(\"---- XGB Regression - Model Evaluation ----\")\n",
    "print(\"Mean Absolute Error (MAE): {}\".format(mae(test_labels, xgb.predict(test_features))))\n",
    "print(\"Mean Squared Error (MSE): {}\".format(mse(test_labels, xgb.predict(test_features))))\n",
    "print(\"Root Mean Squared Error (RMSE): {}\".format(np.sqrt(mse(test_labels, xgb.predict(test_features)))))"
   ]
  },
  {
   "cell_type": "markdown",
   "metadata": {
    "id": "2O1pkw47gkNl"
   },
   "source": [
    "KNR"
   ]
  },
  {
   "cell_type": "code",
   "execution_count": 137,
   "metadata": {
    "colab": {
     "base_uri": "https://localhost:8080/"
    },
    "id": "A5EzVWO0gqoF",
    "outputId": "12384f27-110f-4bf0-aad9-a6d60dbf8778"
   },
   "outputs": [
    {
     "data": {
      "text/html": [
       "<style>#sk-container-id-9 {color: black;background-color: white;}#sk-container-id-9 pre{padding: 0;}#sk-container-id-9 div.sk-toggleable {background-color: white;}#sk-container-id-9 label.sk-toggleable__label {cursor: pointer;display: block;width: 100%;margin-bottom: 0;padding: 0.3em;box-sizing: border-box;text-align: center;}#sk-container-id-9 label.sk-toggleable__label-arrow:before {content: \"▸\";float: left;margin-right: 0.25em;color: #696969;}#sk-container-id-9 label.sk-toggleable__label-arrow:hover:before {color: black;}#sk-container-id-9 div.sk-estimator:hover label.sk-toggleable__label-arrow:before {color: black;}#sk-container-id-9 div.sk-toggleable__content {max-height: 0;max-width: 0;overflow: hidden;text-align: left;background-color: #f0f8ff;}#sk-container-id-9 div.sk-toggleable__content pre {margin: 0.2em;color: black;border-radius: 0.25em;background-color: #f0f8ff;}#sk-container-id-9 input.sk-toggleable__control:checked~div.sk-toggleable__content {max-height: 200px;max-width: 100%;overflow: auto;}#sk-container-id-9 input.sk-toggleable__control:checked~label.sk-toggleable__label-arrow:before {content: \"▾\";}#sk-container-id-9 div.sk-estimator input.sk-toggleable__control:checked~label.sk-toggleable__label {background-color: #d4ebff;}#sk-container-id-9 div.sk-label input.sk-toggleable__control:checked~label.sk-toggleable__label {background-color: #d4ebff;}#sk-container-id-9 input.sk-hidden--visually {border: 0;clip: rect(1px 1px 1px 1px);clip: rect(1px, 1px, 1px, 1px);height: 1px;margin: -1px;overflow: hidden;padding: 0;position: absolute;width: 1px;}#sk-container-id-9 div.sk-estimator {font-family: monospace;background-color: #f0f8ff;border: 1px dotted black;border-radius: 0.25em;box-sizing: border-box;margin-bottom: 0.5em;}#sk-container-id-9 div.sk-estimator:hover {background-color: #d4ebff;}#sk-container-id-9 div.sk-parallel-item::after {content: \"\";width: 100%;border-bottom: 1px solid gray;flex-grow: 1;}#sk-container-id-9 div.sk-label:hover label.sk-toggleable__label {background-color: #d4ebff;}#sk-container-id-9 div.sk-serial::before {content: \"\";position: absolute;border-left: 1px solid gray;box-sizing: border-box;top: 0;bottom: 0;left: 50%;z-index: 0;}#sk-container-id-9 div.sk-serial {display: flex;flex-direction: column;align-items: center;background-color: white;padding-right: 0.2em;padding-left: 0.2em;position: relative;}#sk-container-id-9 div.sk-item {position: relative;z-index: 1;}#sk-container-id-9 div.sk-parallel {display: flex;align-items: stretch;justify-content: center;background-color: white;position: relative;}#sk-container-id-9 div.sk-item::before, #sk-container-id-9 div.sk-parallel-item::before {content: \"\";position: absolute;border-left: 1px solid gray;box-sizing: border-box;top: 0;bottom: 0;left: 50%;z-index: -1;}#sk-container-id-9 div.sk-parallel-item {display: flex;flex-direction: column;z-index: 1;position: relative;background-color: white;}#sk-container-id-9 div.sk-parallel-item:first-child::after {align-self: flex-end;width: 50%;}#sk-container-id-9 div.sk-parallel-item:last-child::after {align-self: flex-start;width: 50%;}#sk-container-id-9 div.sk-parallel-item:only-child::after {width: 0;}#sk-container-id-9 div.sk-dashed-wrapped {border: 1px dashed gray;margin: 0 0.4em 0.5em 0.4em;box-sizing: border-box;padding-bottom: 0.4em;background-color: white;}#sk-container-id-9 div.sk-label label {font-family: monospace;font-weight: bold;display: inline-block;line-height: 1.2em;}#sk-container-id-9 div.sk-label-container {text-align: center;}#sk-container-id-9 div.sk-container {/* jupyter's `normalize.less` sets `[hidden] { display: none; }` but bootstrap.min.css set `[hidden] { display: none !important; }` so we also need the `!important` here to be able to override the default hidden behavior on the sphinx rendered scikit-learn.org. See: https://github.com/scikit-learn/scikit-learn/issues/21755 */display: inline-block !important;position: relative;}#sk-container-id-9 div.sk-text-repr-fallback {display: none;}</style><div id=\"sk-container-id-9\" class=\"sk-top-container\"><div class=\"sk-text-repr-fallback\"><pre>KNeighborsRegressor()</pre><b>In a Jupyter environment, please rerun this cell to show the HTML representation or trust the notebook. <br />On GitHub, the HTML representation is unable to render, please try loading this page with nbviewer.org.</b></div><div class=\"sk-container\" hidden><div class=\"sk-item\"><div class=\"sk-estimator sk-toggleable\"><input class=\"sk-toggleable__control sk-hidden--visually\" id=\"sk-estimator-id-9\" type=\"checkbox\" checked><label for=\"sk-estimator-id-9\" class=\"sk-toggleable__label sk-toggleable__label-arrow\">KNeighborsRegressor</label><div class=\"sk-toggleable__content\"><pre>KNeighborsRegressor()</pre></div></div></div></div></div>"
      ],
      "text/plain": [
       "KNeighborsRegressor()"
      ]
     },
     "execution_count": 137,
     "metadata": {},
     "output_type": "execute_result"
    }
   ],
   "source": [
    "from sklearn.neighbors import KNeighborsRegressor\n",
    "knr = KNeighborsRegressor()\n",
    "# Train Model\n",
    "knr.fit(train_features, train_labels)"
   ]
  },
  {
   "cell_type": "code",
   "execution_count": 138,
   "metadata": {
    "colab": {
     "base_uri": "https://localhost:8080/"
    },
    "id": "8sTxnNxMg9l3",
    "outputId": "543761fc-817a-40f5-a3a6-5aa4bd6a38e7"
   },
   "outputs": [
    {
     "name": "stdout",
     "output_type": "stream",
     "text": [
      "Train Score : 88.05%\n",
      "Test Score : 80.82%\n"
     ]
    }
   ],
   "source": [
    "train_score_knr = str(knr.score(train_features, train_labels)*100)\n",
    "test_score_knr = str(knr.score(test_features, test_labels)*100)\n",
    "print(f'Train Score : {train_score_knr[:5]}%\\nTest Score : {test_score_knr[:5]}%')\n",
    "models[\"knr\"] = test_score_knr"
   ]
  },
  {
   "cell_type": "code",
   "execution_count": 139,
   "metadata": {
    "colab": {
     "base_uri": "https://localhost:8080/"
    },
    "id": "7z5zeaxlhLjU",
    "outputId": "ef65c27e-b87f-492b-9332-8e807ddf4e70"
   },
   "outputs": [
    {
     "name": "stdout",
     "output_type": "stream",
     "text": [
      "---- KNR - Model Evaluation ----\n",
      "Mean Absolute Error (MAE): 8.82466417088747\n",
      "Mean Squared Error (MSE): 167.51176392865005\n",
      "Root Mean Squared Error (RMSE): 12.942633577778908\n"
     ]
    }
   ],
   "source": [
    "print(\"---- KNR - Model Evaluation ----\")\n",
    "print(\"Mean Absolute Error (MAE): {}\".format(mae(test_labels, knr.predict(test_features))))\n",
    "print(\"Mean Squared Error (MSE): {}\".format(mse(test_labels, knr.predict(test_features))))\n",
    "print(\"Root Mean Squared Error (RMSE): {}\".format(np.sqrt(mse(test_labels, knr.predict(test_features)))))"
   ]
  },
  {
   "cell_type": "markdown",
   "metadata": {
    "id": "_iUiJYZzpF0e"
   },
   "source": [
    "## Best Model "
   ]
  },
  {
   "cell_type": "code",
   "execution_count": 32,
   "metadata": {
    "colab": {
     "base_uri": "https://localhost:8080/",
     "height": 339
    },
    "id": "dAJYQS-gUoAT",
    "outputId": "8839dec9-deae-4897-cee2-6b5b56e2e8c4"
   },
   "outputs": [
    {
     "data": {
      "text/plain": [
       "<BarContainer object of 3 artists>"
      ]
     },
     "execution_count": 32,
     "metadata": {},
     "output_type": "execute_result"
    },
    {
     "data": {
      "image/png": "[encoded data removed]",
      "text/plain": [
       "<Figure size 640x480 with 1 Axes>"
      ]
     },
     "metadata": {},
     "output_type": "display_data"
    }
   ],
   "source": [
    "import matplotlib.pyplot as plt \n",
    "model_names = list(models.keys())\n",
    "accuracy = list(map(float, models.values()))\n",
    "# creating the bar plot\n",
    "plt.bar(model_names, accuracy)"
   ]
  },
  {
   "cell_type": "markdown",
   "metadata": {
    "id": "1aZkPTi3rlzP"
   },
   "source": [
    "From above, we can see that **Random Forest** performed the best, closely followed by **Decision Tree** and **KNR**. So we will be choosing Random Forest for the final model"
   ]
  },
  {
   "cell_type": "markdown",
   "metadata": {
    "id": "ZXZ8NE5hgbd2"
   },
   "source": [
    "# Predictions"
   ]
  },
  {
   "cell_type": "code",
   "execution_count": 33,
   "metadata": {
    "id": "QrWfMFKCU7Zu"
   },
   "outputs": [],
   "source": [
    "def score_predict(batting_team, bowling_team, runs, wickets, overs, runs_last_5, wickets_last_5, model=forest):\n",
    "  prediction_array = []\n",
    "  # Batting Team\n",
    "  if batting_team == 'Chennai Super Kings':\n",
    "    prediction_array = prediction_array + [1,0,0,0,0,0,0,0,0,0]\n",
    "  elif batting_team == 'Delhi Capitals':\n",
    "    prediction_array = prediction_array + [0,1,0,0,0,0,0,0,0,0]\n",
    "  elif batting_team == 'Punjab Kings':\n",
    "    prediction_array = prediction_array + [0,0,1,0,0,0,0,0,0,0]\n",
    "  elif batting_team == 'Kolkata Knight Riders':\n",
    "    prediction_array = prediction_array + [0,0,0,1,0,0,0,0,0,0]\n",
    "  elif batting_team == 'Mumbai Indians':\n",
    "    prediction_array = prediction_array + [0,0,0,0,1,0,0,0,0,0]\n",
    "  elif batting_team == 'Rajasthan Royals':\n",
    "    prediction_array = prediction_array + [0,0,0,0,0,1,0,0,0,0]\n",
    "  elif batting_team == 'Royal Challengers Bangalore':\n",
    "    prediction_array = prediction_array + [0,0,0,0,0,0,1,0,0,0]\n",
    "  elif batting_team == 'Sunrisers Hyderabad':\n",
    "    prediction_array = prediction_array + [0,0,0,0,0,0,0,1,0,0]\n",
    "  elif batting_team == 'Gujarat Titans':\n",
    "    prediction_array = prediction_array + [0,0,0,0,0,0,0,0,1,0]\n",
    "  elif batting_team == 'Lucknow Super Giants':\n",
    "    prediction_array = prediction_array + [0,0,0,0,0,0,0,0,0,1]\n",
    "  # Bowling Team\n",
    "  if bowling_team == 'Chennai Super Kings':\n",
    "    prediction_array = prediction_array + [1,0,0,0,0,0,0,0,0,0]\n",
    "  elif bowling_team == 'Delhi Capitals':\n",
    "    prediction_array = prediction_array + [0,1,0,0,0,0,0,0,0,0]\n",
    "  elif bowling_team == 'Punjab Kings':\n",
    "    prediction_array = prediction_array + [0,0,1,0,0,0,0,0,0,0]\n",
    "  elif bowling_team == 'Kolkata Knight Riders':\n",
    "    prediction_array = prediction_array + [0,0,0,1,0,0,0,0,0,0]\n",
    "  elif bowling_team == 'Mumbai Indians':\n",
    "    prediction_array = prediction_array + [0,0,0,0,1,0,0,0,0,0]\n",
    "  elif bowling_team == 'Rajasthan Royals':\n",
    "    prediction_array = prediction_array + [0,0,0,0,0,1,0,0,0,0]\n",
    "  elif bowling_team == 'Royal Challengers Bangalore':\n",
    "    prediction_array = prediction_array + [0,0,0,0,0,0,1,0,0,0]\n",
    "  elif bowling_team == 'Sunrisers Hyderabad':\n",
    "    prediction_array = prediction_array + [0,0,0,0,0,0,0,1,0,0]\n",
    "  elif bowling_team == 'Gujarat Titans':\n",
    "    prediction_array = prediction_array + [0,0,0,0,0,0,0,0,1,0]\n",
    "  elif bowling_team == 'Lucknow Super Giants':\n",
    "    prediction_array = prediction_array + [0,0,0,0,0,0,0,0,0,1]\n",
    "  prediction_array = prediction_array + [runs, wickets, overs, runs_last_5, wickets_last_5]\n",
    "  prediction_array = np.array([prediction_array])\n",
    "  pred = model.predict(prediction_array)\n",
    "  return int(round(pred[0]))"
   ]
  },
  {
   "cell_type": "code",
   "execution_count": 34,
   "metadata": {},
   "outputs": [],
   "source": [
    "def score_predict2(batting_team, bowling_team, runs, wicketsa, overs, runs_last_5, wickets_last_5, model=forest):\n",
    "  prediction_array = []\n",
    "  # Batting Team\n",
    "  if batting_team == 'Chennai Super Kings':\n",
    "    prediction_array = prediction_array + [1,0,0,0,0,0,0,0,0,0]\n",
    "  elif batting_team == 'Delhi Capitals':\n",
    "    prediction_array = prediction_array + [0,1,0,0,0,0,0,0,0,0]\n",
    "  elif batting_team == 'Punjab Kings':\n",
    "    prediction_array = prediction_array + [0,0,1,0,0,0,0,0,0,0]\n",
    "  elif batting_team == 'Kolkata Knight Riders':\n",
    "    prediction_array = prediction_array + [0,0,0,1,0,0,0,0,0,0]\n",
    "  elif batting_team == 'Mumbai Indians':\n",
    "    prediction_array = prediction_array + [0,0,0,0,1,0,0,0,0,0]\n",
    "  elif batting_team == 'Rajasthan Royals':\n",
    "    prediction_array = prediction_array + [0,0,0,0,0,1,0,0,0,0]\n",
    "  elif batting_team == 'Royal Challengers Bangalore':\n",
    "    prediction_array = prediction_array + [0,0,0,0,0,0,1,0,0,0]\n",
    "  elif batting_team == 'Sunrisers Hyderabad':\n",
    "    prediction_array = prediction_array + [0,0,0,0,0,0,0,1,0,0]\n",
    "  elif batting_team == 'Gujarat Titans':\n",
    "    prediction_array = prediction_array + [0,0,0,0,0,0,0,0,1,0]\n",
    "  elif batting_team == 'Lucknow Super Giants':\n",
    "    prediction_array = prediction_array + [0,0,0,0,0,0,0,0,0,1]\n",
    "  # Bowling Team\n",
    "  if bowling_team == 'Chennai Super Kings':\n",
    "    prediction_array = prediction_array + [1,0,0,0,0,0,0,0,0,0]\n",
    "  elif bowling_team == 'Delhi Capitals':\n",
    "    prediction_array = prediction_array + [0,1,0,0,0,0,0,0,0,0]\n",
    "  elif bowling_team == 'Punjab Kings':\n",
    "    prediction_array = prediction_array + [0,0,1,0,0,0,0,0,0,0]\n",
    "  elif bowling_team == 'Kolkata Knight Riders':\n",
    "    prediction_array = prediction_array + [0,0,0,1,0,0,0,0,0,0]\n",
    "  elif bowling_team == 'Mumbai Indians':\n",
    "    prediction_array = prediction_array + [0,0,0,0,1,0,0,0,0,0]\n",
    "  elif bowling_team == 'Rajasthan Royals':\n",
    "    prediction_array = prediction_array + [0,0,0,0,0,1,0,0,0,0]\n",
    "  elif bowling_team == 'Royal Challengers Bangalore':\n",
    "    prediction_array = prediction_array + [0,0,0,0,0,0,1,0,0,0]\n",
    "  elif bowling_team == 'Sunrisers Hyderabad':\n",
    "    prediction_array = prediction_array + [0,0,0,0,0,0,0,1,0,0]\n",
    "  elif bowling_team == 'Gujarat Titans':\n",
    "    prediction_array = prediction_array + [0,0,0,0,0,0,0,0,1,0]\n",
    "  elif bowling_team == 'Lucknow Super Giants':\n",
    "    prediction_array = prediction_array + [0,0,0,0,0,0,0,0,0,1]\n",
    "  prediction_array = prediction_array + [runs, wicketsa, overs, runs_last_5, wickets_last_5]\n",
    "  prediction_array = np.array([prediction_array])\n",
    "  pred = model.predict(prediction_array)\n",
    "  return int(round(pred[0]))"
   ]
  },
  {
   "cell_type": "markdown",
   "metadata": {
    "id": "SY2cbaHfgdrV"
   },
   "source": [
    "### Test 1\n",
    "- Batting Team : **Delhi Daredevils**\n",
    "- Bowling Team : **Chennai Super Kings**\n",
    "- Final Score : **147/9**"
   ]
  },
  {
   "cell_type": "code",
   "execution_count": 35,
   "metadata": {
    "colab": {
     "base_uri": "https://localhost:8080/"
    },
    "id": "s3xhyRdYW4f6",
    "outputId": "11d2c658-b761-4319-b9f5-bd51c7e49043"
   },
   "outputs": [
    {
     "name": "stdout",
     "output_type": "stream",
     "text": [
      "Predicted Score : 150 || Actual Score : 147\n"
     ]
    },
    {
     "name": "stderr",
     "output_type": "stream",
     "text": [
      "C:\\Python311\\Lib\\site-packages\\sklearn\\base.py:439: UserWarning: X does not have valid feature names, but RandomForestRegressor was fitted with feature names\n",
      "  warnings.warn(\n"
     ]
    }
   ],
   "source": [
    "batting_team='Delhi Capitals'\n",
    "bowling_team='Chennai Super Kings'\n",
    "score = score_predict(batting_team, bowling_team, overs=10.2, runs=68, wickets=3, runs_last_5=0, wickets_last_5=0)\n",
    "print(f'Predicted Score : {score} || Actual Score : 147')"
   ]
  },
  {
   "cell_type": "markdown",
   "metadata": {
    "id": "HsKOgxEZhFVO"
   },
   "source": [
    "### Test 2\n",
    "- Batting Team : **Mumbai Indians**\n",
    "- Bowling Team : **Kings XI Punjab**\n",
    "- Final Score : **176/7**"
   ]
  },
  {
   "cell_type": "code",
   "execution_count": 36,
   "metadata": {
    "colab": {
     "base_uri": "https://localhost:8080/"
    },
    "id": "QWA1KTdpX9Za",
    "outputId": "7a5ba969-b38e-4f46-a13e-5d9e23883ecb"
   },
   "outputs": [
    {
     "name": "stdout",
     "output_type": "stream",
     "text": [
      "Predicted Score : 190 || Actual Score : 176\n"
     ]
    },
    {
     "name": "stderr",
     "output_type": "stream",
     "text": [
      "C:\\Python311\\Lib\\site-packages\\sklearn\\base.py:439: UserWarning: X does not have valid feature names, but RandomForestRegressor was fitted with feature names\n",
      "  warnings.warn(\n"
     ]
    }
   ],
   "source": [
    "batting_team='Mumbai Indians'\n",
    "bowling_team='Punjab Kings'\n",
    "score = score_predict(batting_team, bowling_team, overs=12.3, runs=113, wickets=2, runs_last_5=0, wickets_last_5=0)\n",
    "print(f'Predicted Score : {score} || Actual Score : 176')"
   ]
  },
  {
   "cell_type": "markdown",
   "metadata": {
    "id": "RzKmW6BchwKW"
   },
   "source": [
    "### Test 3\n",
    "- Batting Team : **Kings XI Punjab**\n",
    "- Bowling Team : **Rajasthan Royals**\n",
    "- Final Score : **185/4**\n",
    "<br/>\n",
    "These Test Was done before the match and final score were added later."
   ]
  },
  {
   "cell_type": "code",
   "execution_count": 37,
   "metadata": {
    "colab": {
     "base_uri": "https://localhost:8080/"
    },
    "id": "80NScDvNYZ2K",
    "outputId": "21585262-2e4b-4a29-827e-59e8bc9de310"
   },
   "outputs": [
    {
     "name": "stdout",
     "output_type": "stream",
     "text": [
      "Predicted Score : 176 || Actual Score : 185\n"
     ]
    },
    {
     "name": "stderr",
     "output_type": "stream",
     "text": [
      "C:\\Python311\\Lib\\site-packages\\sklearn\\base.py:439: UserWarning: X does not have valid feature names, but RandomForestRegressor was fitted with feature names\n",
      "  warnings.warn(\n"
     ]
    }
   ],
   "source": [
    "batting_team=\"Punjab Kings\"\n",
    "bowling_team=\"Rajasthan Royals\"\n",
    "score =score_predict(batting_team, bowling_team, overs=14.0, runs=118, wickets=1, runs_last_5=0, wickets_last_5=0)\n",
    "print(f'Predicted Score : {score} || Actual Score : 185')"
   ]
  },
  {
   "cell_type": "markdown",
   "metadata": {
    "id": "ta72D9zFiCd1"
   },
   "source": [
    "### Test 4\n",
    "- Batting Team : **Kolkata Knight Riders**\n",
    "- Bowling Team : **Chennai Super Kings**\n",
    "- Final Score : **172/5**"
   ]
  },
  {
   "cell_type": "code",
   "execution_count": 38,
   "metadata": {
    "colab": {
     "base_uri": "https://localhost:8080/"
    },
    "id": "NQ6dHS_YaQJ9",
    "outputId": "2dbe95ce-0abf-4053-e89e-a4f11e934088"
   },
   "outputs": [
    {
     "name": "stdout",
     "output_type": "stream",
     "text": [
      "Predicted Score : 172 || Actual Score : 172\n"
     ]
    },
    {
     "name": "stderr",
     "output_type": "stream",
     "text": [
      "C:\\Python311\\Lib\\site-packages\\sklearn\\base.py:439: UserWarning: X does not have valid feature names, but RandomForestRegressor was fitted with feature names\n",
      "  warnings.warn(\n"
     ]
    }
   ],
   "source": [
    "batting_team=\"Kolkata Knight Riders\"\n",
    "bowling_team=\"Chennai Super Kings\"\n",
    "score = score_predict(batting_team, bowling_team, overs=18.0, runs=150, wickets=4, runs_last_5=0, wickets_last_5=0)\n",
    "print(f'Predicted Score : {score} || Actual Score : 172')"
   ]
  },
  {
   "cell_type": "markdown",
   "metadata": {
    "id": "WKwPjoaDzgKf"
   },
   "source": [
    "### Test 5 \n",
    "- Batting Team : **Delhi Daredevils**\n",
    "- Bowling Team : **Mumbai Indians**\n",
    "- Final Score : **110/7**"
   ]
  },
  {
   "cell_type": "code",
   "execution_count": 39,
   "metadata": {
    "colab": {
     "base_uri": "https://localhost:8080/"
    },
    "id": "Pdghw3mhzv0b",
    "outputId": "ab712702-dbba-4bc1-f8d1-014ab052e5c9"
   },
   "outputs": [
    {
     "name": "stdout",
     "output_type": "stream",
     "text": [
      "Predicted Score : 109 || Actual Score : 110\n"
     ]
    },
    {
     "name": "stderr",
     "output_type": "stream",
     "text": [
      "C:\\Python311\\Lib\\site-packages\\sklearn\\base.py:439: UserWarning: X does not have valid feature names, but RandomForestRegressor was fitted with feature names\n",
      "  warnings.warn(\n"
     ]
    }
   ],
   "source": [
    "batting_team='Delhi Capitals'\n",
    "bowling_team='Mumbai Indians'\n",
    "score = score_predict(batting_team, bowling_team, overs=18.0, runs=96, wickets=8, runs_last_5=0, wickets_last_5=0)\n",
    "print(f'Predicted Score : {score} || Actual Score : 110')"
   ]
  },
  {
   "cell_type": "markdown",
   "metadata": {
    "id": "dkIDqCkg0DWM"
   },
   "source": [
    "### Test 6\n",
    "- Batting Team : **Kings XI Punjab**\n",
    "- Bowling Team : **Chennai Super Kings**\n",
    "- Final Score : **153/9**"
   ]
  },
  {
   "cell_type": "code",
   "execution_count": 40,
   "metadata": {
    "colab": {
     "base_uri": "https://localhost:8080/"
    },
    "id": "DAcEBGuw0ck8",
    "outputId": "cd738781-99cb-49cb-d87a-d3af04fdb62f"
   },
   "outputs": [
    {
     "name": "stdout",
     "output_type": "stream",
     "text": [
      "Predicted Score : 149 || Actual Score : 153\n"
     ]
    },
    {
     "name": "stderr",
     "output_type": "stream",
     "text": [
      "C:\\Python311\\Lib\\site-packages\\sklearn\\base.py:439: UserWarning: X does not have valid feature names, but RandomForestRegressor was fitted with feature names\n",
      "  warnings.warn(\n"
     ]
    }
   ],
   "source": [
    "batting_team='Punjab Kings'\n",
    "bowling_team='Chennai Super Kings'\n",
    "score = score_predict(batting_team, bowling_team, overs=18.0, runs=129, wickets=6, runs_last_5=0, wickets_last_5=0)\n",
    "print(f'Predicted Score : {score} || Actual Score : 153')"
   ]
  },
  {
   "cell_type": "markdown",
   "metadata": {
    "id": "Vf7eoLfIjq_L"
   },
   "source": [
    "### Test 7\n",
    "- Batting Team : **Sunrisers Hyderabad**\n",
    "- Bowling Team : **Royal Challengers Banglore**\n",
    "- Final Score : **146/10**"
   ]
  },
  {
   "cell_type": "code",
   "execution_count": 41,
   "metadata": {
    "colab": {
     "base_uri": "https://localhost:8080/"
    },
    "id": "takhqMblj3rb",
    "outputId": "6f409b51-d603-4bfc-dc20-2416f2e6d9ae"
   },
   "outputs": [
    {
     "name": "stdout",
     "output_type": "stream",
     "text": [
      "Predicted Score : 151 || Actual Score : 146\n"
     ]
    },
    {
     "name": "stderr",
     "output_type": "stream",
     "text": [
      "C:\\Python311\\Lib\\site-packages\\sklearn\\base.py:439: UserWarning: X does not have valid feature names, but RandomForestRegressor was fitted with feature names\n",
      "  warnings.warn(\n"
     ]
    }
   ],
   "source": [
    "batting_team='Sunrisers Hyderabad'\n",
    "bowling_team='Royal Challengers Bangalore'\n",
    "score = score_predict(batting_team, bowling_team, overs=10.5, runs=67, wickets=3, runs_last_5=0, wickets_last_5=0)\n",
    "print(f'Predicted Score : {score} || Actual Score : 146')"
   ]
  },
  {
   "cell_type": "markdown",
   "metadata": {},
   "source": [
    "### Test 8\n",
    "- Batting Team : **Sunrisers Hyderabad**\n",
    "- Bowling Team : **Royal Challengers Banglore**\n",
    "- Final Score : **146/10**"
   ]
  },
  {
   "cell_type": "code",
   "execution_count": 42,
   "metadata": {},
   "outputs": [
    {
     "name": "stdout",
     "output_type": "stream",
     "text": [
      "92 92 92 92 92\n",
      "Predicted Score : 224 || Actual Score : 222\n"
     ]
    },
    {
     "data": {
      "text/plain": [
       "[<matplotlib.lines.Line2D at 0x243e7cd5410>]"
      ]
     },
     "execution_count": 42,
     "metadata": {},
     "output_type": "execute_result"
    },
    {
     "data": {
      "image/png": "[encoded data removed]",
      "text/plain": [
       "<Figure size 640x480 with 1 Axes>"
      ]
     },
     "metadata": {},
     "output_type": "display_data"
    }
   ],
   "source": [
    "#batting_team = 'Gujarat Titans'\n",
    "#bowling_team = 'Lucknow Super Giants'\n",
    "#score = score_predict(batting_team, bowling_team, overs=9.4, runs=52, wickets=3, runs_last_5=24, wickets_last_5=1)\n",
    "#print(f'Pridicted Score: {score} || Actual Score : 146')\n",
    "batting_team=\"Kolkata Knight Riders\"\n",
    "bowling_team=\"Royal Challengers Bangalore\"\n",
    "overs5=[5.1,5.2,5.3,5.4,5.5,5.6,6.1,6.2,6.3,6.4,6.5,6.6,7.1,7.2,7.3,7.4,7.5,7.6,8.1,8.2,8.3,8.4,8.5,8.6,9.1,9.2,9.3,9.4,9.5,9.6,10.1,10.2,10.3,10.4,10.5,10.6,11.1,11.2,11.3,11.4,11.5,11.6,12.1,12.2,12.3,12.4,12.4,12.5,12.6,13.1,13.2,13.3,13.4,13.5,13.6,14.1,14.2,14.3,14.4,14.4,14.5,14.6,15.1,15.2,15.3,15.4,15.5,15.6,16.1,16.2,16.3,16.4,16.5,16.6,17.1,17.2,17.3,17.4,17.5,17.6,18.1,18.2,18.3,18.4,18.5,18.6,19.1,19.2,19.3,19.4,19.5,19.6]\n",
    "runs5=[59,59,59,59,58,58,55,52,47,45,46,47,47,47,44,44,45,41,35,34,30,31,31,27,24,24,21,21,26,27,27,31,31,37,37,41,40,45,46,45,44,44,44,47,46,47,47,50,51,52,52,52,52,51,52,55,55,61,59,60,60,62,62,57,59,55,56,50,49,50,51,56,58,56,56,55,54,51,54,54,60,59,64,67,66,66,71,71,69,67,68,68]\n",
    "runsc=[61,61,61,61,61,61,62,63,64,66,67,68,68,69,70,71,72,73,73,73,73,74,75,77,78,79,80,80,86,87,88,92,92,98,98,102,102,108,110,111,111,112,112,116,116,118,119,123,124,125,125,126,127,128,130,134,135,141,145,147,148,154,154,155,157,157,158,158,159,161,162,168,170,172,172,173,173,174,178,179,185,185,191,195,196,200,206,212,214,214,216,222,]\n",
    "wicksc=[0,1,1,1,1,1,1,1,1,1,1,1,1,1,1,1,1,1,1,1,1,1,1,1,1,1,1,1,1,1,1,1,1,1,1,1,1,1,1,1,1,1,2,2,2,2,2,2,2,2,2,2,2,2,2,2,2,2,2,2,2,2,2,2,2,2,2,2,2,2,2,2,2,2,3,3,3,3,3,3,3,3,3,3,3,3,3,3,3,3,3,3]\n",
    "wicks5=[0,1,1,1,1,1,1,1,1,1,1,1,1,1,1,1,1,1,1,1,1,1,1,1,1,1,1,1,1,1,1,0,0,0,0,0,0,0,0,0,0,0,1,1,1,1,1,1,1,1,1,1,1,1,1,1,1,1,1,1,1,1,1,1,1,1,1,1,1,1,1,1,0,0,1,1,1,1,1,1,1,1,1,1,1,1,1,1,1,1,1,1]\n",
    "print(len(overs5),len(runs5),len(runsc),len(wicks5),len(wicks5))\n",
    "Z=[]\n",
    "a=[]\n",
    "for i in range(0,92):\n",
    "    a.append(runsc[i]/overs5[i])\n",
    "a\n",
    "    \n",
    "\n",
    "\n",
    "\n",
    "\n",
    "\n",
    "\n",
    "\n",
    "\n",
    "total=222\n",
    "balls=125\n",
    "import warnings\n",
    "warnings.filterwarnings('ignore')\n",
    "warnings.simplefilter('ignore')\n",
    "for i in range(0,len(overs5)):\n",
    "    score = score_predict(batting_team, bowling_team, overs=overs5[i],runs=runsc[i], wickets=wicksc[i], runs_last_5=runs5[i], wickets_last_5=wicks5[i])\n",
    "    Z.append(score)\n",
    "print(f'Predicted Score : {score} || Actual Score : 222')\n",
    "import chart_studio.plotly as py \n",
    "import plotly.graph_objs as go\n",
    "import numpy as np\n",
    "import matplotlib.pyplot as plt\n",
    "import seaborn as sns\n",
    "import pandas as pd \n",
    "import cufflinks as cf\n",
    "import plotly.graph_objs as go\n",
    "from plotly.offline import download_plotlyjs, init_notebook_mode, plot, iplot\n",
    "#plt.plot(runsc,Z)\n",
    "#plt.xlabel('Current score')\n",
    "#plt.ylabel('Predicted score')\n",
    "#plt.title('Current vs Predicted score for random forest model(this gave highest accuracy)')\n",
    "\n",
    "'''fig,axes=plt.subplots(nrows=1,ncols=1,figsize=(20,10))\n",
    "axes[1].plot(overs5,Z)\n",
    "axes[1].plot(overs5,runs)\n",
    "'''\n",
    "r=0\n",
    "#plt.plot(overs5,runsc)\n",
    "plt.plot(overs5,runsc)\n",
    "for i in range(84,92):\n",
    "    r=r+a[i]\n",
    "a.append(r/8)\n",
    "\n",
    "def calculate_average(data):\n",
    "    averages = []\n",
    "    total_sum = 0\n",
    "\n",
    "    for i, value in enumerate(data):\n",
    "        total_sum += value\n",
    "\n",
    "        if (i + 1) % 12 == 0:\n",
    "            average = total_sum / 12\n",
    "            averages.append(average)\n",
    "            total_sum = 0\n",
    "\n",
    "    return averages\n",
    "b=calculate_average(a)\n",
    "p=[]\n",
    "#plt.plot(overs5,runs5)\n",
    "v=[8,10,12,14,16,18,20]\n",
    "for i in range(0,len(v)):\n",
    "    p.append(b[i]*v[i])\n",
    "plt.plot(v,p)\n",
    "plt.plot(overs5,runsc)\n"
   ]
  },
  {
   "cell_type": "markdown",
   "metadata": {
    "id": "UReOWOeQiSD-"
   },
   "source": [
    "# Export Model"
   ]
  },
  {
   "cell_type": "code",
   "execution_count": 53,
   "metadata": {
    "colab": {
     "base_uri": "https://localhost:8080/"
    },
    "id": "z8q6lNENfWlY",
    "outputId": "8da53ebf-0659-48f7-994c-e203c3403b3b"
   },
   "outputs": [],
   "source": [
    "import pickle\n",
    "filename = \"ml_model.pkl\"\n",
    "pickle.dump(forest, open(filename, \"wb\"))"
   ]
  },
  {
   "cell_type": "code",
   "execution_count": null,
   "metadata": {},
   "outputs": [],
   "source": []
  },
  {
   "cell_type": "code",
   "execution_count": null,
   "metadata": {},
   "outputs": [],
   "source": []
  },
  {
   "cell_type": "code",
   "execution_count": null,
   "metadata": {},
   "outputs": [],
   "source": []
  }
 ],
 "metadata": {
  "colab": {
   "name": "IPL Prediction Model Training.ipynb",
   "provenance": []
  },
  "kernelspec": {
   "display_name": "Python 3 (ipykernel)",
   "language": "python",
   "name": "python3"
  },
  "language_info": {
   "codemirror_mode": {
    "name": "ipython",
    "version": 3
   },
   "file_extension": ".py",
   "mimetype": "text/x-python",
   "name": "python",
   "nbconvert_exporter": "python",
   "pygments_lexer": "ipython3",
   "version": "3.11.3"
  },
  "vscode": {
   "interpreter": {
    "hash": "dfc60ba703a6b18fce8d1c6c67f6efc2ac17719420bc54f502a7afdcbe0d1c85"
   }
  }
 },
 "nbformat": 4,
 "nbformat_minor": 1
}
